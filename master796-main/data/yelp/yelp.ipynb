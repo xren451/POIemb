{
 "cells": [
  {
   "cell_type": "code",
   "execution_count": 1,
   "id": "initial_id",
   "metadata": {
    "collapsed": true,
    "ExecuteTime": {
     "end_time": "2023-11-24T02:42:54.735518300Z",
     "start_time": "2023-11-24T02:42:54.205814900Z"
    }
   },
   "outputs": [],
   "source": [
    "import numpy as np\n",
    "import pandas as pd\n",
    "import json\n",
    "import string"
   ]
  },
  {
   "cell_type": "code",
   "execution_count": 2,
   "outputs": [
    {
     "data": {
      "text/plain": "dyna_id      106468\ntype              1\ntime         106439\nentity_id     40182\nlocation       7811\ntext         100649\ndtype: int64"
     },
     "execution_count": 2,
     "metadata": {},
     "output_type": "execute_result"
    }
   ],
   "source": [
    "dyna = pd.read_csv('yelp_la/yelp_la.dyna')\n",
    "dyna.nunique()"
   ],
   "metadata": {
    "collapsed": false,
    "ExecuteTime": {
     "end_time": "2023-11-24T02:42:54.893917800Z",
     "start_time": "2023-11-24T02:42:54.735518300Z"
    }
   },
   "id": "78a73ea2a78ae06a"
  },
  {
   "cell_type": "code",
   "execution_count": 3,
   "outputs": [
    {
     "data": {
      "text/plain": "      geo_id   type                       coordinates  \\\n0          0  Point           [-90.074523,30.0063408]   \n1          1  Point  [-90.1008188,29.920621899999997]   \n2          2  Point          [-90.0620566,29.9575819]   \n3          3  Point          [-90.1064893,30.0194903]   \n4          4  Point           [-90.073235,29.9516963]   \n...      ...    ...                               ...   \n7806    7806  Point           [-90.0940442,29.926067]   \n7807    7807  Point          [-90.0617793,29.9587943]   \n7808    7808  Point            [-90.066328,29.941828]   \n7809    7809  Point          [-90.1069741,29.9168565]   \n7810    7810  Point           [-90.0355581,29.911358]   \n\n                                             categories  \\\n0                              Food Restaurants Italian   \n1     Music  DVDs Vinyl Records Fashion Womens Cloth...   \n2     Arts  Entertainment Cinema Local Flavor Hotels...   \n3                                   Food Street Vendors   \n4     Cafes Nightlife Cocktail Bars Peruvian Restaur...   \n...                                                 ...   \n7806  Venues  Event Spaces Wraps Restaurants Event P...   \n7807  Shopping Fashion Mens Clothing Childrens Cloth...   \n7808  Venues  Event Spaces Event Planning  Services ...   \n7809  Food American Traditional Nightlife Restaurant...   \n7810                          Restaurants Cafes Italian   \n\n                                                   text  \\\n0     The Original Italian Pie Welcome to the neighb...   \n1     Peaches Records There selectiona are pricey fo...   \n2     New Orleans Movie Tours This was a great tour ...   \n3     Billy Wrights Manuels Style Hot Tamales Excell...   \n4     Piscobar Upstairs bar closed Monday and Tuesda...   \n...                                                 ...   \n7806  Robins Wharf Uptown Soups count as a side with...   \n7807  Kulture Vulture Cool Ass store They sell a lot...   \n7808                    Generations Hall Fabulous venue   \n7809  F  M Patio Bar Yes Make fun 20 credit card min...   \n7810  Cafe Diblasi Great little Italian establishmen...   \n\n               main categories  \n0                         Food  \n1                     Shopping  \n2          Arts  Entertainment  \n3                         Food  \n4                    Nightlife  \n...                        ...  \n7806  Event Planning  Services  \n7807                  Shopping  \n7808  Event Planning  Services  \n7809                      Food  \n7810               Restaurants  \n\n[7811 rows x 6 columns]",
      "text/html": "<div>\n<style scoped>\n    .dataframe tbody tr th:only-of-type {\n        vertical-align: middle;\n    }\n\n    .dataframe tbody tr th {\n        vertical-align: top;\n    }\n\n    .dataframe thead th {\n        text-align: right;\n    }\n</style>\n<table border=\"1\" class=\"dataframe\">\n  <thead>\n    <tr style=\"text-align: right;\">\n      <th></th>\n      <th>geo_id</th>\n      <th>type</th>\n      <th>coordinates</th>\n      <th>categories</th>\n      <th>text</th>\n      <th>main categories</th>\n    </tr>\n  </thead>\n  <tbody>\n    <tr>\n      <th>0</th>\n      <td>0</td>\n      <td>Point</td>\n      <td>[-90.074523,30.0063408]</td>\n      <td>Food Restaurants Italian</td>\n      <td>The Original Italian Pie Welcome to the neighb...</td>\n      <td>Food</td>\n    </tr>\n    <tr>\n      <th>1</th>\n      <td>1</td>\n      <td>Point</td>\n      <td>[-90.1008188,29.920621899999997]</td>\n      <td>Music  DVDs Vinyl Records Fashion Womens Cloth...</td>\n      <td>Peaches Records There selectiona are pricey fo...</td>\n      <td>Shopping</td>\n    </tr>\n    <tr>\n      <th>2</th>\n      <td>2</td>\n      <td>Point</td>\n      <td>[-90.0620566,29.9575819]</td>\n      <td>Arts  Entertainment Cinema Local Flavor Hotels...</td>\n      <td>New Orleans Movie Tours This was a great tour ...</td>\n      <td>Arts  Entertainment</td>\n    </tr>\n    <tr>\n      <th>3</th>\n      <td>3</td>\n      <td>Point</td>\n      <td>[-90.1064893,30.0194903]</td>\n      <td>Food Street Vendors</td>\n      <td>Billy Wrights Manuels Style Hot Tamales Excell...</td>\n      <td>Food</td>\n    </tr>\n    <tr>\n      <th>4</th>\n      <td>4</td>\n      <td>Point</td>\n      <td>[-90.073235,29.9516963]</td>\n      <td>Cafes Nightlife Cocktail Bars Peruvian Restaur...</td>\n      <td>Piscobar Upstairs bar closed Monday and Tuesda...</td>\n      <td>Nightlife</td>\n    </tr>\n    <tr>\n      <th>...</th>\n      <td>...</td>\n      <td>...</td>\n      <td>...</td>\n      <td>...</td>\n      <td>...</td>\n      <td>...</td>\n    </tr>\n    <tr>\n      <th>7806</th>\n      <td>7806</td>\n      <td>Point</td>\n      <td>[-90.0940442,29.926067]</td>\n      <td>Venues  Event Spaces Wraps Restaurants Event P...</td>\n      <td>Robins Wharf Uptown Soups count as a side with...</td>\n      <td>Event Planning  Services</td>\n    </tr>\n    <tr>\n      <th>7807</th>\n      <td>7807</td>\n      <td>Point</td>\n      <td>[-90.0617793,29.9587943]</td>\n      <td>Shopping Fashion Mens Clothing Childrens Cloth...</td>\n      <td>Kulture Vulture Cool Ass store They sell a lot...</td>\n      <td>Shopping</td>\n    </tr>\n    <tr>\n      <th>7808</th>\n      <td>7808</td>\n      <td>Point</td>\n      <td>[-90.066328,29.941828]</td>\n      <td>Venues  Event Spaces Event Planning  Services ...</td>\n      <td>Generations Hall Fabulous venue</td>\n      <td>Event Planning  Services</td>\n    </tr>\n    <tr>\n      <th>7809</th>\n      <td>7809</td>\n      <td>Point</td>\n      <td>[-90.1069741,29.9168565]</td>\n      <td>Food American Traditional Nightlife Restaurant...</td>\n      <td>F  M Patio Bar Yes Make fun 20 credit card min...</td>\n      <td>Food</td>\n    </tr>\n    <tr>\n      <th>7810</th>\n      <td>7810</td>\n      <td>Point</td>\n      <td>[-90.0355581,29.911358]</td>\n      <td>Restaurants Cafes Italian</td>\n      <td>Cafe Diblasi Great little Italian establishmen...</td>\n      <td>Restaurants</td>\n    </tr>\n  </tbody>\n</table>\n<p>7811 rows × 6 columns</p>\n</div>"
     },
     "execution_count": 3,
     "metadata": {},
     "output_type": "execute_result"
    }
   ],
   "source": [
    "geo = pd.read_csv('yelp_la/yelp_la.geo')\n",
    "geo"
   ],
   "metadata": {
    "collapsed": false,
    "ExecuteTime": {
     "end_time": "2023-11-24T02:42:54.955830400Z",
     "start_time": "2023-11-24T02:42:54.892917900Z"
    }
   },
   "id": "6d631be4e356cd99"
  },
  {
   "cell_type": "code",
   "execution_count": 6,
   "outputs": [
    {
     "data": {
      "text/plain": "Food                           1851\nRestaurants                    1390\nNightlife                       621\nBeauty  Spas                    589\nEvent Planning  Services        559\nShopping                        515\nArts  Entertainment             473\nAutomotive                      393\nActive Life                     338\nLocal Services                  216\nHome Services                   210\nHealth  Medical                 195\nHotels  Travel                  138\nPets                             98\nLocal Flavor                     75\nPublic Services  Government      54\nFinancial Services               40\nEducation                        28\nReligious Organizations          13\nProfessional Services             8\nMass Media                        7\nName: main categories, dtype: int64"
     },
     "execution_count": 6,
     "metadata": {},
     "output_type": "execute_result"
    }
   ],
   "source": [
    "geo['main categories'].value_counts()"
   ],
   "metadata": {
    "collapsed": false,
    "ExecuteTime": {
     "end_time": "2023-11-24T02:45:29.527786600Z",
     "start_time": "2023-11-24T02:45:29.514586600Z"
    }
   },
   "id": "589e2fa8afd99ecb"
  },
  {
   "cell_type": "code",
   "execution_count": 7,
   "outputs": [
    {
     "data": {
      "text/plain": "array(['Food', 'Music', 'Arts', 'Cafes', 'Hotels', 'CajunCreole',\n       'Health', 'Real', 'Restaurants', 'Barbers', 'General', 'Day',\n       'Beauty', 'Landmarks', 'Fast', 'Latin', 'Ice', 'Gyms',\n       'Dermatologists', 'Public', 'Seafood', 'Pizza', 'Cosmetics',\n       'Pest', 'Fashion', 'Grocery', 'Specialty', 'Womens', 'Donuts',\n       'Wine', 'Hair', 'Active', 'Toy', 'Local', 'Shopping', 'Sandwiches',\n       'Coffee', 'Brasseries', 'Tires', 'Shades', 'Middle', 'Bars',\n       'Sports', 'Home', 'Tiki', 'Juice', 'Nightlife', 'Internet', 'Pet',\n       'Burgers', 'Bed', 'Art', 'Dive', 'Flight', 'Lounges', 'Adult',\n       'Butcher', 'Barbeque', 'Party', 'Event', 'Kids', 'Pets', 'Farmers',\n       'American', 'Auto', 'Spanish', 'Comfort', 'Japanese', 'Breakfast',\n       'Vegan', 'Maternity', 'Ethnic', 'Laser', 'Kitchen', 'Mens',\n       'Steakhouses', 'Interior', 'French', 'Skin', 'Custom',\n       'Automotive', 'Department', 'Asian', 'Furniture', 'Eyebrow',\n       'Convenience', 'Tobacco', 'Vitamins', 'Southern', 'Mediterranean',\n       'Halal', 'Vietnamese', 'Interval', 'Tattoo', 'Windows', 'Sewing',\n       'Fitness', 'Uniforms', 'Dance', 'Candy', 'Computers', 'Italian',\n       'Shoe', 'Makeup', 'Ophthalmologists', 'Hobby', 'Delis',\n       'Accessories', 'Wedding', 'Beer', 'Drugstores', 'Venues', 'Sushi',\n       'Kickboxing', 'Desserts', 'Recording', 'Medical', 'Korean',\n       'Bakeries', 'Indoor', 'Caterers', 'Shaved', 'Optometrists',\n       'Outdoor', 'Cosmetic', 'PopUp', 'Transportation', 'Jewelry',\n       'Cinema', 'Movers', 'Libraries', 'Funeral', 'Irish',\n       'Professional', 'Nail', 'Ethiopian', 'Jazz', 'Pubs', 'Salad',\n       'Spiritual', 'Education', 'Doctors', 'Soul', 'Building', 'Buffets',\n       'Chicken', 'Check', 'Chiropractors', 'Cocktail', 'Mobile',\n       'Rehabilitation', 'Banks', 'Concept', 'Religious', 'Session',\n       'Firearm', 'Flowers', 'Wholesale', 'Tours', 'Car', 'Festivals',\n       'Tacos', 'Gas', 'Head', 'Indian', 'Chinese', 'Mexican', 'Sporting',\n       'Herbs', 'Reflexology', 'Post', 'Printing', 'TapasSmall',\n       'Electronics', 'Airport', 'Florists', 'Massage', 'Trainers',\n       'Meat', 'Colleges', 'Empanadas', 'Christmas', 'Guest', 'Arabic',\n       'Gift', 'Community', 'DoItYourself', 'Historical', 'Bookstores',\n       'Departments', 'Town', 'Eyelash', 'Discount', 'Drywall', 'Musical',\n       'Diners', 'Museums', 'Formal', 'Tanning', 'Vinyl', 'Dim',\n       'Shipping', 'GlutenFree', 'Lakes', 'Bike', 'IT', 'Vegetarian',\n       'Thrift', 'Golf', 'Parks', 'Windshield', 'Watch', 'Plumbing',\n       'Kosher', 'Snow', 'Newspapers', 'Hawaiian', 'Packing', 'Junk',\n       'Pakistani', 'Childrens', 'Signmaking', 'Dry', 'Threading',\n       'Financial', 'Oil', 'PatisserieCake', 'Bikes', 'Haitian', 'Water',\n       'Brewing', 'Photographers', 'Veterinarians', 'Wheel', 'Appliances',\n       'Laundry', 'Outlet', 'Cannabis', 'Pilates', 'Contractors',\n       'Urgent', 'Books', 'Boat', 'Spray', 'Heating', 'Hot', 'Hardware',\n       'Breweries', 'Traditional', 'Parking', 'Dentists', 'Apartments',\n       'Weight', 'Caribbean', 'Thai', 'Restaurant', 'Airlines', 'Pool',\n       'Flea', 'Aerial', 'Cultural', 'Hookah', 'Tree', 'Lingerie', 'Yoga',\n       'Acupuncture', 'TexMex', 'Laundromat', 'Landscaping', 'Churches',\n       'Bridal', 'Balloon', 'Souvenir', 'Racing', 'Filipino', 'Champagne',\n       'Driving', 'Personal', 'Couriers', 'Salvadoran', 'Waxing',\n       'Family', 'Customized', 'Gardeners', 'Haunted', 'Dog', 'Cardio',\n       'Cafeteria', 'Self', 'Gastropubs', 'Mass', 'Mattresses', 'Fruits',\n       'Cabaret', 'German', 'Themed', 'Tennis', 'Psychics', 'Insurance',\n       'NaturopathicHolistic', 'Truck', 'Videos', 'Television',\n       'Honduran', 'Office', 'Venezuelan', 'Stadiums', 'Tapas',\n       'Pharmacy', 'Motorcycle', 'Bagels', 'Midwives', 'TV', 'Employment',\n       'Body', 'Farms', 'Antiques', 'Eyewear', 'Ramen', 'Baby', 'Keys',\n       'Street', 'Cantonese', 'PersianIranian', 'Notaries',\n       'Periodontists', 'Towing', 'Soup', 'Pediatric', 'Bubble',\n       'Colombian', 'Oral', 'Carpet', 'Emergency', 'Amateur', 'Boating',\n       'Moroccan', 'Vacation', 'Hiking', 'Estate', 'Yelp', 'Cheesesteaks',\n       'Boot', 'Burmese', 'Greek', 'Embroidery', 'Fences', 'Knitting',\n       'Amusement', 'Cooking', 'Comic', 'Costumes', 'Floral', 'Gay',\n       'Carousels', 'Holiday', 'Social', 'Recycling', 'Sunglasses',\n       'Vape', 'Blow', 'Hostels', 'Preschools', 'Hospitals', 'Creperies',\n       'Cycling', 'Watches', 'Tea', 'Wineries', 'Karaoke', 'Performing',\n       'Aquariums', 'Speakeasies', 'Pawn', 'Cuban', 'Donation', 'Wraps',\n       'Nicaraguan', 'Endodontists', 'Walking', 'Diagnostic', 'Solar',\n       'Orthodontists', 'Permanent', 'Radio', 'Imported', 'Escape',\n       'Lawyers', 'Pretzels', 'Swimming', 'Ear', 'Popup', 'Security',\n       'Cupcakes', 'Marketing', 'Fertility', 'LiveRaw', 'Handyman',\n       'Framing', 'Smog', 'Battery', 'Chocolatiers', 'Shutters',\n       'Perfume', 'Glass', 'Guns', 'Noodles', 'Police', 'Cardiologists',\n       'Supernatural', 'Falafel', 'Courthouses', 'Shredding', 'Nurseries',\n       'Painters', 'Piano', 'Skating', 'Brazilian', 'Turkish',\n       'Neurologist', 'Strip', 'Photography', 'Argentine', 'Bus',\n       'Recreation', 'Nephrologists', 'Resorts', 'Campgrounds',\n       'Piercing', 'Used', 'Electricians', 'Skate', 'African', 'Bowling',\n       'Travel', 'Playgrounds', 'Country', 'Disc', 'Web', 'Boxing',\n       'Surgeons', 'Fabric', 'Animal', 'Safety', 'Fish', 'Hindu',\n       'Swimwear', 'Screen', 'FitnessExercise', 'Scooter', 'Bar',\n       'Peruvian', 'Window', 'Leather', 'International', 'Team',\n       'Selfdefense', 'RV', 'Macarons', 'Paint', 'Acai', 'Aquarium',\n       'Blood', 'Jails', 'Races', 'Barre', 'Pediatricians', 'Caricatures',\n       'Gelato', 'Tasting', 'Print', 'Lebanese', 'Basque', 'Mini',\n       'Casinos', 'Fishing', 'Carpeting', 'Dominican'], dtype=object)"
     },
     "execution_count": 7,
     "metadata": {},
     "output_type": "execute_result"
    }
   ],
   "source": [
    "geo['categories'].str.split().str[0].unique()"
   ],
   "metadata": {
    "collapsed": false,
    "ExecuteTime": {
     "end_time": "2023-11-18T09:22:31.750473900Z",
     "start_time": "2023-11-18T09:22:31.739903700Z"
    }
   },
   "id": "e6180bccacad684"
  },
  {
   "cell_type": "code",
   "execution_count": 26,
   "outputs": [],
   "source": [
    "predefined_categories = [\n",
    "    \"Active Life\",\n",
    "    \"Arts  Entertainment\",\n",
    "    \"Automotive\",\n",
    "    \"Beauty  Spas\",\n",
    "    \"Education\",\n",
    "    \"Event Planning  Services\",\n",
    "    \"Financial Services\",\n",
    "    \"Food\",\n",
    "    \"Health  Medical\",\n",
    "    \"Home Services\",\n",
    "    \"Hotels  Travel\",\n",
    "    \"Local Flavor\",\n",
    "    \"Local Services\",\n",
    "    \"Mass Media\",\n",
    "    \"Nightlife\",\n",
    "    \"Pets\",\n",
    "    \"Professional Services\",\n",
    "    \"Public Services  Government\",\n",
    "    \"Real Estate\",\n",
    "    \"Religious Organizations\",\n",
    "    \"Restaurants\",\n",
    "    \"Shopping\"\n",
    "]\n",
    "\n",
    "# 处理categories列\n",
    "def filter_categories(row):\n",
    "    # categories = row.split(' ')\n",
    "    # for category in categories:\n",
    "    #     if category in predefined_categories:\n",
    "    #         return category\n",
    "    # return None\n",
    "    for category in predefined_categories:\n",
    "        if category in row:\n",
    "            return category\n",
    "    return None\n",
    "\n",
    "geo['main categories']= geo['categories'].apply(filter_categories)\n",
    "\n",
    "nv_geo = pd.read_csv('yelp_nv/yelp_nv.geo')\n",
    "nv_geo['main categories']= nv_geo['categories'].apply(filter_categories)"
   ],
   "metadata": {
    "collapsed": false,
    "ExecuteTime": {
     "end_time": "2023-11-18T10:59:38.484880Z",
     "start_time": "2023-11-18T10:59:38.420201900Z"
    }
   },
   "id": "5747e66f920aa6ea"
  },
  {
   "cell_type": "code",
   "execution_count": 29,
   "outputs": [
    {
     "name": "stdout",
     "output_type": "stream",
     "text": [
      "geo_id             5317\n",
      "type                  1\n",
      "coordinates        4762\n",
      "categories         4179\n",
      "text               5317\n",
      "main categories      21\n",
      "dtype: int64\n"
     ]
    }
   ],
   "source": [
    "nv_geo[nv_geo.isna().any(axis=1)]\n",
    "print(nv_geo.nunique())"
   ],
   "metadata": {
    "collapsed": false,
    "ExecuteTime": {
     "end_time": "2023-11-18T11:00:09.085950500Z",
     "start_time": "2023-11-18T11:00:09.030963900Z"
    }
   },
   "id": "edf5d858da8088e2"
  },
  {
   "cell_type": "code",
   "execution_count": 21,
   "outputs": [
    {
     "data": {
      "text/plain": "Empty DataFrame\nColumns: [geo_id, type, coordinates, categories, text, main categories]\nIndex: []",
      "text/html": "<div>\n<style scoped>\n    .dataframe tbody tr th:only-of-type {\n        vertical-align: middle;\n    }\n\n    .dataframe tbody tr th {\n        vertical-align: top;\n    }\n\n    .dataframe thead th {\n        text-align: right;\n    }\n</style>\n<table border=\"1\" class=\"dataframe\">\n  <thead>\n    <tr style=\"text-align: right;\">\n      <th></th>\n      <th>geo_id</th>\n      <th>type</th>\n      <th>coordinates</th>\n      <th>categories</th>\n      <th>text</th>\n      <th>main categories</th>\n    </tr>\n  </thead>\n  <tbody>\n  </tbody>\n</table>\n</div>"
     },
     "execution_count": 21,
     "metadata": {},
     "output_type": "execute_result"
    }
   ],
   "source": [
    "geo[geo.isna().any(axis=1)]"
   ],
   "metadata": {
    "collapsed": false,
    "ExecuteTime": {
     "end_time": "2023-11-18T09:34:38.956188Z",
     "start_time": "2023-11-18T09:34:38.941681700Z"
    }
   },
   "id": "305e646cabd9b074"
  },
  {
   "cell_type": "code",
   "execution_count": 25,
   "outputs": [],
   "source": [
    "geo.to_csv('yelp_la/yelp_la.geo', index=False)"
   ],
   "metadata": {
    "collapsed": false,
    "ExecuteTime": {
     "end_time": "2023-11-18T10:58:30.294680500Z",
     "start_time": "2023-11-18T10:58:30.220859200Z"
    }
   },
   "id": "fb725a3e272f0099"
  },
  {
   "cell_type": "code",
   "execution_count": 30,
   "outputs": [],
   "source": [
    "nv_geo.to_csv('yelp_nv/yelp_nv.geo', index=False)"
   ],
   "metadata": {
    "collapsed": false,
    "ExecuteTime": {
     "end_time": "2023-11-18T11:00:35.706236300Z",
     "start_time": "2023-11-18T11:00:35.657232600Z"
    }
   },
   "id": "20fca08f8bef7fa"
  },
  {
   "cell_type": "code",
   "execution_count": 22,
   "outputs": [
    {
     "data": {
      "text/plain": "geo_id             7811\ntype                  1\ncoordinates        7436\ncategories         5788\ntext               7811\nmain categories      21\ndtype: int64"
     },
     "execution_count": 22,
     "metadata": {},
     "output_type": "execute_result"
    }
   ],
   "source": [
    "geo.nunique()"
   ],
   "metadata": {
    "collapsed": false,
    "ExecuteTime": {
     "end_time": "2023-11-18T09:34:41.180358Z",
     "start_time": "2023-11-18T09:34:41.146890600Z"
    }
   },
   "id": "1c84fb1598f0483"
  },
  {
   "cell_type": "code",
   "execution_count": 2,
   "outputs": [
    {
     "name": "stdout",
     "output_type": "stream",
     "text": [
      "(908915, 5)\n"
     ]
    },
    {
     "data": {
      "text/plain": "                  user_id             business_id  \\\n0  AGNUgVwnZUey3gcPCJ76iw  3uLgwr0qeCNMjKenHJwPGQ   \n1  NBN4MgHP9D3cw--SnauTkA  QoezRbYQncpRqyrLH6Iqjg   \n2  -copOvldyKh1qr-vzkDEvw  MYoRNLb5chwjQe3c_k37Gg   \n3  FjMQVZjSqY8syIO-53KFKw  hV-bABTK-glh5wj31ps_Jw   \n4  ld0AperBXk1h6UbqmM80zw  _uN0OudeJ3Zl_tf6nxg5ww   \n\n                                                text                date  \\\n0                     Avengers time with the ladies. 2012-05-18 02:17:21   \n1  They have lots of good deserts and tasty cuban... 2013-02-05 18:35:10   \n2             It's open even when you think it isn't 2013-08-18 00:56:08   \n3                          Very decent fried chicken 2017-06-27 23:05:38   \n4             Appetizers.. platter special for lunch 2012-10-06 19:43:09   \n\n   compliment_count  \n0                 0  \n1                 0  \n2                 0  \n3                 0  \n4                 0  ",
      "text/html": "<div>\n<style scoped>\n    .dataframe tbody tr th:only-of-type {\n        vertical-align: middle;\n    }\n\n    .dataframe tbody tr th {\n        vertical-align: top;\n    }\n\n    .dataframe thead th {\n        text-align: right;\n    }\n</style>\n<table border=\"1\" class=\"dataframe\">\n  <thead>\n    <tr style=\"text-align: right;\">\n      <th></th>\n      <th>user_id</th>\n      <th>business_id</th>\n      <th>text</th>\n      <th>date</th>\n      <th>compliment_count</th>\n    </tr>\n  </thead>\n  <tbody>\n    <tr>\n      <th>0</th>\n      <td>AGNUgVwnZUey3gcPCJ76iw</td>\n      <td>3uLgwr0qeCNMjKenHJwPGQ</td>\n      <td>Avengers time with the ladies.</td>\n      <td>2012-05-18 02:17:21</td>\n      <td>0</td>\n    </tr>\n    <tr>\n      <th>1</th>\n      <td>NBN4MgHP9D3cw--SnauTkA</td>\n      <td>QoezRbYQncpRqyrLH6Iqjg</td>\n      <td>They have lots of good deserts and tasty cuban...</td>\n      <td>2013-02-05 18:35:10</td>\n      <td>0</td>\n    </tr>\n    <tr>\n      <th>2</th>\n      <td>-copOvldyKh1qr-vzkDEvw</td>\n      <td>MYoRNLb5chwjQe3c_k37Gg</td>\n      <td>It's open even when you think it isn't</td>\n      <td>2013-08-18 00:56:08</td>\n      <td>0</td>\n    </tr>\n    <tr>\n      <th>3</th>\n      <td>FjMQVZjSqY8syIO-53KFKw</td>\n      <td>hV-bABTK-glh5wj31ps_Jw</td>\n      <td>Very decent fried chicken</td>\n      <td>2017-06-27 23:05:38</td>\n      <td>0</td>\n    </tr>\n    <tr>\n      <th>4</th>\n      <td>ld0AperBXk1h6UbqmM80zw</td>\n      <td>_uN0OudeJ3Zl_tf6nxg5ww</td>\n      <td>Appetizers.. platter special for lunch</td>\n      <td>2012-10-06 19:43:09</td>\n      <td>0</td>\n    </tr>\n  </tbody>\n</table>\n</div>"
     },
     "execution_count": 2,
     "metadata": {},
     "output_type": "execute_result"
    }
   ],
   "source": [
    "df_tip = pd.read_json(\"yelp_academic_dataset_tip.json\", lines=True)\n",
    "print(df_tip.shape)\n",
    "df_tip.head()"
   ],
   "metadata": {
    "collapsed": false,
    "ExecuteTime": {
     "end_time": "2023-10-23T09:21:06.530762100Z",
     "start_time": "2023-10-23T09:21:04.183124900Z"
    }
   },
   "id": "b08388ed5eb80d28"
  },
  {
   "cell_type": "code",
   "execution_count": 3,
   "outputs": [
    {
     "name": "stdout",
     "output_type": "stream",
     "text": [
      "(150346, 14)\n"
     ]
    },
    {
     "data": {
      "text/plain": "              business_id                      name  \\\n0  Pns2l4eNsfO8kk83dixA6A  Abby Rappoport, LAC, CMQ   \n1  mpf3x-BjTdTEA3yCZrAYPw             The UPS Store   \n2  tUFrWirKiKi_TAnsVWINQQ                    Target   \n3  MTSW4McQd7CbVtyjqoe9mw        St Honore Pastries   \n4  mWMc6_wTdE0EUBKIGXDVfA  Perkiomen Valley Brewery   \n\n                           address           city state postal_code  \\\n0           1616 Chapala St, Ste 2  Santa Barbara    CA       93101   \n1  87 Grasso Plaza Shopping Center         Affton    MO       63123   \n2             5255 E Broadway Blvd         Tucson    AZ       85711   \n3                      935 Race St   Philadelphia    PA       19107   \n4                    101 Walnut St     Green Lane    PA       18054   \n\n    latitude   longitude  stars  review_count  is_open  \\\n0  34.426679 -119.711197    5.0             7        0   \n1  38.551126  -90.335695    3.0            15        1   \n2  32.223236 -110.880452    3.5            22        0   \n3  39.955505  -75.155564    4.0            80        1   \n4  40.338183  -75.471659    4.5            13        1   \n\n                                          attributes  \\\n0                      {'ByAppointmentOnly': 'True'}   \n1             {'BusinessAcceptsCreditCards': 'True'}   \n2  {'BikeParking': 'True', 'BusinessAcceptsCredit...   \n3  {'RestaurantsDelivery': 'False', 'OutdoorSeati...   \n4  {'BusinessAcceptsCreditCards': 'True', 'Wheelc...   \n\n                                          categories  \\\n0  Doctors, Traditional Chinese Medicine, Naturop...   \n1  Shipping Centers, Local Services, Notaries, Ma...   \n2  Department Stores, Shopping, Fashion, Home & G...   \n3  Restaurants, Food, Bubble Tea, Coffee & Tea, B...   \n4                          Brewpubs, Breweries, Food   \n\n                                               hours  \n0                                               None  \n1  {'Monday': '0:0-0:0', 'Tuesday': '8:0-18:30', ...  \n2  {'Monday': '8:0-22:0', 'Tuesday': '8:0-22:0', ...  \n3  {'Monday': '7:0-20:0', 'Tuesday': '7:0-20:0', ...  \n4  {'Wednesday': '14:0-22:0', 'Thursday': '16:0-2...  ",
      "text/html": "<div>\n<style scoped>\n    .dataframe tbody tr th:only-of-type {\n        vertical-align: middle;\n    }\n\n    .dataframe tbody tr th {\n        vertical-align: top;\n    }\n\n    .dataframe thead th {\n        text-align: right;\n    }\n</style>\n<table border=\"1\" class=\"dataframe\">\n  <thead>\n    <tr style=\"text-align: right;\">\n      <th></th>\n      <th>business_id</th>\n      <th>name</th>\n      <th>address</th>\n      <th>city</th>\n      <th>state</th>\n      <th>postal_code</th>\n      <th>latitude</th>\n      <th>longitude</th>\n      <th>stars</th>\n      <th>review_count</th>\n      <th>is_open</th>\n      <th>attributes</th>\n      <th>categories</th>\n      <th>hours</th>\n    </tr>\n  </thead>\n  <tbody>\n    <tr>\n      <th>0</th>\n      <td>Pns2l4eNsfO8kk83dixA6A</td>\n      <td>Abby Rappoport, LAC, CMQ</td>\n      <td>1616 Chapala St, Ste 2</td>\n      <td>Santa Barbara</td>\n      <td>CA</td>\n      <td>93101</td>\n      <td>34.426679</td>\n      <td>-119.711197</td>\n      <td>5.0</td>\n      <td>7</td>\n      <td>0</td>\n      <td>{'ByAppointmentOnly': 'True'}</td>\n      <td>Doctors, Traditional Chinese Medicine, Naturop...</td>\n      <td>None</td>\n    </tr>\n    <tr>\n      <th>1</th>\n      <td>mpf3x-BjTdTEA3yCZrAYPw</td>\n      <td>The UPS Store</td>\n      <td>87 Grasso Plaza Shopping Center</td>\n      <td>Affton</td>\n      <td>MO</td>\n      <td>63123</td>\n      <td>38.551126</td>\n      <td>-90.335695</td>\n      <td>3.0</td>\n      <td>15</td>\n      <td>1</td>\n      <td>{'BusinessAcceptsCreditCards': 'True'}</td>\n      <td>Shipping Centers, Local Services, Notaries, Ma...</td>\n      <td>{'Monday': '0:0-0:0', 'Tuesday': '8:0-18:30', ...</td>\n    </tr>\n    <tr>\n      <th>2</th>\n      <td>tUFrWirKiKi_TAnsVWINQQ</td>\n      <td>Target</td>\n      <td>5255 E Broadway Blvd</td>\n      <td>Tucson</td>\n      <td>AZ</td>\n      <td>85711</td>\n      <td>32.223236</td>\n      <td>-110.880452</td>\n      <td>3.5</td>\n      <td>22</td>\n      <td>0</td>\n      <td>{'BikeParking': 'True', 'BusinessAcceptsCredit...</td>\n      <td>Department Stores, Shopping, Fashion, Home &amp; G...</td>\n      <td>{'Monday': '8:0-22:0', 'Tuesday': '8:0-22:0', ...</td>\n    </tr>\n    <tr>\n      <th>3</th>\n      <td>MTSW4McQd7CbVtyjqoe9mw</td>\n      <td>St Honore Pastries</td>\n      <td>935 Race St</td>\n      <td>Philadelphia</td>\n      <td>PA</td>\n      <td>19107</td>\n      <td>39.955505</td>\n      <td>-75.155564</td>\n      <td>4.0</td>\n      <td>80</td>\n      <td>1</td>\n      <td>{'RestaurantsDelivery': 'False', 'OutdoorSeati...</td>\n      <td>Restaurants, Food, Bubble Tea, Coffee &amp; Tea, B...</td>\n      <td>{'Monday': '7:0-20:0', 'Tuesday': '7:0-20:0', ...</td>\n    </tr>\n    <tr>\n      <th>4</th>\n      <td>mWMc6_wTdE0EUBKIGXDVfA</td>\n      <td>Perkiomen Valley Brewery</td>\n      <td>101 Walnut St</td>\n      <td>Green Lane</td>\n      <td>PA</td>\n      <td>18054</td>\n      <td>40.338183</td>\n      <td>-75.471659</td>\n      <td>4.5</td>\n      <td>13</td>\n      <td>1</td>\n      <td>{'BusinessAcceptsCreditCards': 'True', 'Wheelc...</td>\n      <td>Brewpubs, Breweries, Food</td>\n      <td>{'Wednesday': '14:0-22:0', 'Thursday': '16:0-2...</td>\n    </tr>\n  </tbody>\n</table>\n</div>"
     },
     "execution_count": 3,
     "metadata": {},
     "output_type": "execute_result"
    }
   ],
   "source": [
    "df_business = pd.read_json(\"yelp_academic_dataset_business.json\", lines=True)\n",
    "print(df_business.shape)\n",
    "df_business.head()"
   ],
   "metadata": {
    "collapsed": false,
    "ExecuteTime": {
     "end_time": "2023-10-23T09:21:12.790344400Z",
     "start_time": "2023-10-23T09:21:11.298092500Z"
    }
   },
   "id": "a39791549f931415"
  },
  {
   "cell_type": "code",
   "execution_count": 5,
   "outputs": [
    {
     "name": "stdout",
     "output_type": "stream",
     "text": [
      "(908915, 18)\n"
     ]
    },
    {
     "data": {
      "text/plain": "              business_id           name                          address  \\\n0  mpf3x-BjTdTEA3yCZrAYPw  The UPS Store  87 Grasso Plaza Shopping Center   \n1  tUFrWirKiKi_TAnsVWINQQ         Target             5255 E Broadway Blvd   \n2  tUFrWirKiKi_TAnsVWINQQ         Target             5255 E Broadway Blvd   \n3  tUFrWirKiKi_TAnsVWINQQ         Target             5255 E Broadway Blvd   \n4  tUFrWirKiKi_TAnsVWINQQ         Target             5255 E Broadway Blvd   \n\n     city state postal_code   latitude   longitude  stars  review_count  \\\n0  Affton    MO       63123  38.551126  -90.335695    3.0            15   \n1  Tucson    AZ       85711  32.223236 -110.880452    3.5            22   \n2  Tucson    AZ       85711  32.223236 -110.880452    3.5            22   \n3  Tucson    AZ       85711  32.223236 -110.880452    3.5            22   \n4  Tucson    AZ       85711  32.223236 -110.880452    3.5            22   \n\n   is_open                                         attributes  \\\n0        1             {'BusinessAcceptsCreditCards': 'True'}   \n1        0  {'BikeParking': 'True', 'BusinessAcceptsCredit...   \n2        0  {'BikeParking': 'True', 'BusinessAcceptsCredit...   \n3        0  {'BikeParking': 'True', 'BusinessAcceptsCredit...   \n4        0  {'BikeParking': 'True', 'BusinessAcceptsCredit...   \n\n                                          categories  \\\n0  Shipping Centers, Local Services, Notaries, Ma...   \n1  Department Stores, Shopping, Fashion, Home & G...   \n2  Department Stores, Shopping, Fashion, Home & G...   \n3  Department Stores, Shopping, Fashion, Home & G...   \n4  Department Stores, Shopping, Fashion, Home & G...   \n\n                                               hours                 user_id  \\\n0  {'Monday': '0:0-0:0', 'Tuesday': '8:0-18:30', ...  trf3Qcz8qvCDKXiTgjUcEg   \n1  {'Monday': '8:0-22:0', 'Tuesday': '8:0-22:0', ...  _5swqa5xUdLar-Q-bBZSDA   \n2  {'Monday': '8:0-22:0', 'Tuesday': '8:0-22:0', ...  oAvO0BOHOagOI7WVGXlWSA   \n3  {'Monday': '8:0-22:0', 'Tuesday': '8:0-22:0', ...  moSLKqdFUI-B80vun67UfQ   \n4  {'Monday': '8:0-22:0', 'Tuesday': '8:0-22:0', ...  8eC6EOsLTmfVk_35t3ZQqg   \n\n                                                text                date  \\\n0                     Dropping off my Amazon return. 2011-12-12 23:30:26   \n1                                        Containers! 2012-03-29 18:47:55   \n2  This place looks the same as other target at c... 2012-12-11 02:50:41   \n3  clean just stopped for some pens, not to busy ... 2014-09-21 23:01:02   \n4  Butterball turkeys are 99 cents a pound right ... 2013-11-23 21:15:05   \n\n   compliment_count  \n0                 0  \n1                 0  \n2                 0  \n3                 0  \n4                 0  ",
      "text/html": "<div>\n<style scoped>\n    .dataframe tbody tr th:only-of-type {\n        vertical-align: middle;\n    }\n\n    .dataframe tbody tr th {\n        vertical-align: top;\n    }\n\n    .dataframe thead th {\n        text-align: right;\n    }\n</style>\n<table border=\"1\" class=\"dataframe\">\n  <thead>\n    <tr style=\"text-align: right;\">\n      <th></th>\n      <th>business_id</th>\n      <th>name</th>\n      <th>address</th>\n      <th>city</th>\n      <th>state</th>\n      <th>postal_code</th>\n      <th>latitude</th>\n      <th>longitude</th>\n      <th>stars</th>\n      <th>review_count</th>\n      <th>is_open</th>\n      <th>attributes</th>\n      <th>categories</th>\n      <th>hours</th>\n      <th>user_id</th>\n      <th>text</th>\n      <th>date</th>\n      <th>compliment_count</th>\n    </tr>\n  </thead>\n  <tbody>\n    <tr>\n      <th>0</th>\n      <td>mpf3x-BjTdTEA3yCZrAYPw</td>\n      <td>The UPS Store</td>\n      <td>87 Grasso Plaza Shopping Center</td>\n      <td>Affton</td>\n      <td>MO</td>\n      <td>63123</td>\n      <td>38.551126</td>\n      <td>-90.335695</td>\n      <td>3.0</td>\n      <td>15</td>\n      <td>1</td>\n      <td>{'BusinessAcceptsCreditCards': 'True'}</td>\n      <td>Shipping Centers, Local Services, Notaries, Ma...</td>\n      <td>{'Monday': '0:0-0:0', 'Tuesday': '8:0-18:30', ...</td>\n      <td>trf3Qcz8qvCDKXiTgjUcEg</td>\n      <td>Dropping off my Amazon return.</td>\n      <td>2011-12-12 23:30:26</td>\n      <td>0</td>\n    </tr>\n    <tr>\n      <th>1</th>\n      <td>tUFrWirKiKi_TAnsVWINQQ</td>\n      <td>Target</td>\n      <td>5255 E Broadway Blvd</td>\n      <td>Tucson</td>\n      <td>AZ</td>\n      <td>85711</td>\n      <td>32.223236</td>\n      <td>-110.880452</td>\n      <td>3.5</td>\n      <td>22</td>\n      <td>0</td>\n      <td>{'BikeParking': 'True', 'BusinessAcceptsCredit...</td>\n      <td>Department Stores, Shopping, Fashion, Home &amp; G...</td>\n      <td>{'Monday': '8:0-22:0', 'Tuesday': '8:0-22:0', ...</td>\n      <td>_5swqa5xUdLar-Q-bBZSDA</td>\n      <td>Containers!</td>\n      <td>2012-03-29 18:47:55</td>\n      <td>0</td>\n    </tr>\n    <tr>\n      <th>2</th>\n      <td>tUFrWirKiKi_TAnsVWINQQ</td>\n      <td>Target</td>\n      <td>5255 E Broadway Blvd</td>\n      <td>Tucson</td>\n      <td>AZ</td>\n      <td>85711</td>\n      <td>32.223236</td>\n      <td>-110.880452</td>\n      <td>3.5</td>\n      <td>22</td>\n      <td>0</td>\n      <td>{'BikeParking': 'True', 'BusinessAcceptsCredit...</td>\n      <td>Department Stores, Shopping, Fashion, Home &amp; G...</td>\n      <td>{'Monday': '8:0-22:0', 'Tuesday': '8:0-22:0', ...</td>\n      <td>oAvO0BOHOagOI7WVGXlWSA</td>\n      <td>This place looks the same as other target at c...</td>\n      <td>2012-12-11 02:50:41</td>\n      <td>0</td>\n    </tr>\n    <tr>\n      <th>3</th>\n      <td>tUFrWirKiKi_TAnsVWINQQ</td>\n      <td>Target</td>\n      <td>5255 E Broadway Blvd</td>\n      <td>Tucson</td>\n      <td>AZ</td>\n      <td>85711</td>\n      <td>32.223236</td>\n      <td>-110.880452</td>\n      <td>3.5</td>\n      <td>22</td>\n      <td>0</td>\n      <td>{'BikeParking': 'True', 'BusinessAcceptsCredit...</td>\n      <td>Department Stores, Shopping, Fashion, Home &amp; G...</td>\n      <td>{'Monday': '8:0-22:0', 'Tuesday': '8:0-22:0', ...</td>\n      <td>moSLKqdFUI-B80vun67UfQ</td>\n      <td>clean just stopped for some pens, not to busy ...</td>\n      <td>2014-09-21 23:01:02</td>\n      <td>0</td>\n    </tr>\n    <tr>\n      <th>4</th>\n      <td>tUFrWirKiKi_TAnsVWINQQ</td>\n      <td>Target</td>\n      <td>5255 E Broadway Blvd</td>\n      <td>Tucson</td>\n      <td>AZ</td>\n      <td>85711</td>\n      <td>32.223236</td>\n      <td>-110.880452</td>\n      <td>3.5</td>\n      <td>22</td>\n      <td>0</td>\n      <td>{'BikeParking': 'True', 'BusinessAcceptsCredit...</td>\n      <td>Department Stores, Shopping, Fashion, Home &amp; G...</td>\n      <td>{'Monday': '8:0-22:0', 'Tuesday': '8:0-22:0', ...</td>\n      <td>8eC6EOsLTmfVk_35t3ZQqg</td>\n      <td>Butterball turkeys are 99 cents a pound right ...</td>\n      <td>2013-11-23 21:15:05</td>\n      <td>0</td>\n    </tr>\n  </tbody>\n</table>\n</div>"
     },
     "execution_count": 5,
     "metadata": {},
     "output_type": "execute_result"
    }
   ],
   "source": [
    "df_merged = pd.merge(df_business, df_tip, on='business_id')\n",
    "print(df_merged.shape)\n",
    "df_merged.head()"
   ],
   "metadata": {
    "collapsed": false,
    "ExecuteTime": {
     "end_time": "2023-10-23T09:21:25.645623900Z",
     "start_time": "2023-10-23T09:21:25.050925200Z"
    }
   },
   "id": "daace3b21091559e"
  },
  {
   "cell_type": "code",
   "execution_count": 7,
   "outputs": [
    {
     "data": {
      "text/plain": "business_id    106193\nname            78439\nstate              20\nlatitude        98837\nlongitude       96915\ncategories      61615\nuser_id        301758\ntext           851033\ndate           906694\ndtype: int64"
     },
     "execution_count": 7,
     "metadata": {},
     "output_type": "execute_result"
    }
   ],
   "source": [
    "df_new = df_merged[['business_id','name', 'state', 'latitude',\n",
    "                    'longitude', 'categories', 'user_id', 'text', 'date']]\n",
    "df_new.nunique()"
   ],
   "metadata": {
    "collapsed": false,
    "ExecuteTime": {
     "end_time": "2023-10-23T09:21:49.532451700Z",
     "start_time": "2023-10-23T09:21:48.691820Z"
    }
   },
   "id": "c31b15f38766e4fd"
  },
  {
   "cell_type": "code",
   "execution_count": null,
   "outputs": [],
   "source": [
    "# aggregate text\n",
    "# df_PA.groupby(['business_id','latitude','longitude'], as_index = False).agg({'text':''.join})"
   ],
   "metadata": {
    "collapsed": false
   },
   "id": "cdbf833d1af9b525"
  },
  {
   "cell_type": "code",
   "execution_count": 8,
   "outputs": [
    {
     "name": "stdout",
     "output_type": "stream",
     "text": [
      "(106470, 9)\n",
      "business_id      7813\n",
      "name             6632\n",
      "state               1\n",
      "latitude         7218\n",
      "longitude        7059\n",
      "categories       5788\n",
      "user_id         40183\n",
      "text           102737\n",
      "date           106441\n",
      "dtype: int64\n"
     ]
    },
    {
     "data": {
      "text/plain": "              business_id                             name state   latitude  \\\n0  w_AMNoI1iG9eay7ncmc67w                        River 127    LA  29.951359   \n1  w_AMNoI1iG9eay7ncmc67w                        River 127    LA  29.951359   \n2  w_AMNoI1iG9eay7ncmc67w                        River 127    LA  29.951359   \n3  Si6LXSR9gvAbmgO5DzV2cw  Lafitte's Landing Seafood House    LA  29.875482   \n4  Si6LXSR9gvAbmgO5DzV2cw  Lafitte's Landing Seafood House    LA  29.875482   \n\n   longitude                                         categories  \\\n0 -90.064672  Event Planning & Services, Hotels, Hotels & Tr...   \n1 -90.064672  Event Planning & Services, Hotels, Hotels & Tr...   \n2 -90.064672  Event Planning & Services, Hotels, Hotels & Tr...   \n3 -90.049380                Restaurants, Soup, Seafood, Burgers   \n4 -90.049380                Restaurants, Soup, Seafood, Burgers   \n\n                  user_id                                               text  \\\n0  X4k8ugJaihHVLHq32rNTwQ                                 Last vacation meal   \n1  X4k8ugJaihHVLHq32rNTwQ  Looking for something other than oysters this ...   \n2  GGWUR0XU262iZkVtJ6sZQw  Burger and fried were really good. Menu is ver...   \n3  5JRrwPNQH3mMIXVEOYuZMw  Great food and service! Outstanding seafood pl...   \n4  6K5wCAYi4CB5dGH0QqEFRg  Everything is ok. Nothing really stellar, almo...   \n\n                 date  \n0 2013-06-03 17:48:26  \n1 2013-06-02 16:29:09  \n2 2018-10-23 17:36:49  \n3 2016-07-31 15:10:26  \n4 2017-03-26 03:18:45  ",
      "text/html": "<div>\n<style scoped>\n    .dataframe tbody tr th:only-of-type {\n        vertical-align: middle;\n    }\n\n    .dataframe tbody tr th {\n        vertical-align: top;\n    }\n\n    .dataframe thead th {\n        text-align: right;\n    }\n</style>\n<table border=\"1\" class=\"dataframe\">\n  <thead>\n    <tr style=\"text-align: right;\">\n      <th></th>\n      <th>business_id</th>\n      <th>name</th>\n      <th>state</th>\n      <th>latitude</th>\n      <th>longitude</th>\n      <th>categories</th>\n      <th>user_id</th>\n      <th>text</th>\n      <th>date</th>\n    </tr>\n  </thead>\n  <tbody>\n    <tr>\n      <th>0</th>\n      <td>w_AMNoI1iG9eay7ncmc67w</td>\n      <td>River 127</td>\n      <td>LA</td>\n      <td>29.951359</td>\n      <td>-90.064672</td>\n      <td>Event Planning &amp; Services, Hotels, Hotels &amp; Tr...</td>\n      <td>X4k8ugJaihHVLHq32rNTwQ</td>\n      <td>Last vacation meal</td>\n      <td>2013-06-03 17:48:26</td>\n    </tr>\n    <tr>\n      <th>1</th>\n      <td>w_AMNoI1iG9eay7ncmc67w</td>\n      <td>River 127</td>\n      <td>LA</td>\n      <td>29.951359</td>\n      <td>-90.064672</td>\n      <td>Event Planning &amp; Services, Hotels, Hotels &amp; Tr...</td>\n      <td>X4k8ugJaihHVLHq32rNTwQ</td>\n      <td>Looking for something other than oysters this ...</td>\n      <td>2013-06-02 16:29:09</td>\n    </tr>\n    <tr>\n      <th>2</th>\n      <td>w_AMNoI1iG9eay7ncmc67w</td>\n      <td>River 127</td>\n      <td>LA</td>\n      <td>29.951359</td>\n      <td>-90.064672</td>\n      <td>Event Planning &amp; Services, Hotels, Hotels &amp; Tr...</td>\n      <td>GGWUR0XU262iZkVtJ6sZQw</td>\n      <td>Burger and fried were really good. Menu is ver...</td>\n      <td>2018-10-23 17:36:49</td>\n    </tr>\n    <tr>\n      <th>3</th>\n      <td>Si6LXSR9gvAbmgO5DzV2cw</td>\n      <td>Lafitte's Landing Seafood House</td>\n      <td>LA</td>\n      <td>29.875482</td>\n      <td>-90.049380</td>\n      <td>Restaurants, Soup, Seafood, Burgers</td>\n      <td>5JRrwPNQH3mMIXVEOYuZMw</td>\n      <td>Great food and service! Outstanding seafood pl...</td>\n      <td>2016-07-31 15:10:26</td>\n    </tr>\n    <tr>\n      <th>4</th>\n      <td>Si6LXSR9gvAbmgO5DzV2cw</td>\n      <td>Lafitte's Landing Seafood House</td>\n      <td>LA</td>\n      <td>29.875482</td>\n      <td>-90.049380</td>\n      <td>Restaurants, Soup, Seafood, Burgers</td>\n      <td>6K5wCAYi4CB5dGH0QqEFRg</td>\n      <td>Everything is ok. Nothing really stellar, almo...</td>\n      <td>2017-03-26 03:18:45</td>\n    </tr>\n  </tbody>\n</table>\n</div>"
     },
     "execution_count": 8,
     "metadata": {},
     "output_type": "execute_result"
    }
   ],
   "source": [
    "df_LA = df_new[df_new['state'] == 'LA'].reset_index(drop=True)\n",
    "print(df_LA.shape)\n",
    "print(df_LA.nunique())\n",
    "df_LA.head()\n"
   ],
   "metadata": {
    "collapsed": false,
    "ExecuteTime": {
     "end_time": "2023-10-23T09:24:45.122898900Z",
     "start_time": "2023-10-23T09:24:44.973728200Z"
    }
   },
   "id": "cebe8ddac70b51a"
  },
  {
   "cell_type": "code",
   "execution_count": 9,
   "outputs": [
    {
     "name": "stdout",
     "output_type": "stream",
     "text": [
      "(53056, 9)\n",
      "business_id     5319\n",
      "name            4515\n",
      "state              1\n",
      "latitude        4591\n",
      "longitude       4533\n",
      "categories      4179\n",
      "user_id        18573\n",
      "text           51381\n",
      "date           53034\n",
      "dtype: int64\n"
     ]
    },
    {
     "data": {
      "text/plain": "              business_id                     name state   latitude  \\\n0  9OG5YkX1g2GReZM0AskizA  Romano's Macaroni Grill    NV  39.476117   \n1  9OG5YkX1g2GReZM0AskizA  Romano's Macaroni Grill    NV  39.476117   \n2  9OG5YkX1g2GReZM0AskizA  Romano's Macaroni Grill    NV  39.476117   \n3  9OG5YkX1g2GReZM0AskizA  Romano's Macaroni Grill    NV  39.476117   \n4  9OG5YkX1g2GReZM0AskizA  Romano's Macaroni Grill    NV  39.476117   \n\n    longitude            categories                 user_id  \\\n0 -119.789339  Restaurants, Italian  m63SiTom5meYgkZ_SVfFKQ   \n1 -119.789339  Restaurants, Italian  xZbySvO07ZLCSDQcQceY5w   \n2 -119.789339  Restaurants, Italian  -EiBrLlTNv9uG_xZJWLEvw   \n3 -119.789339  Restaurants, Italian  xZbySvO07ZLCSDQcQceY5w   \n4 -119.789339  Restaurants, Italian  xC8CT98n1LE-CR0KSdp92A   \n\n                                                text                date  \n0                         Yummy eggplant quadratini! 2012-01-11 21:39:15  \n1                    Lunch with a pet sitting client 2011-05-06 18:15:51  \n2  The Caesar dressing tastes like water and mayo... 2014-07-15 02:52:59  \n3  Lunch with a kitty mom/client at Mac grill. I ... 2011-04-18 17:50:03  \n4              Wonderful Italian food.  Great music. 2014-03-27 18:45:44  ",
      "text/html": "<div>\n<style scoped>\n    .dataframe tbody tr th:only-of-type {\n        vertical-align: middle;\n    }\n\n    .dataframe tbody tr th {\n        vertical-align: top;\n    }\n\n    .dataframe thead th {\n        text-align: right;\n    }\n</style>\n<table border=\"1\" class=\"dataframe\">\n  <thead>\n    <tr style=\"text-align: right;\">\n      <th></th>\n      <th>business_id</th>\n      <th>name</th>\n      <th>state</th>\n      <th>latitude</th>\n      <th>longitude</th>\n      <th>categories</th>\n      <th>user_id</th>\n      <th>text</th>\n      <th>date</th>\n    </tr>\n  </thead>\n  <tbody>\n    <tr>\n      <th>0</th>\n      <td>9OG5YkX1g2GReZM0AskizA</td>\n      <td>Romano's Macaroni Grill</td>\n      <td>NV</td>\n      <td>39.476117</td>\n      <td>-119.789339</td>\n      <td>Restaurants, Italian</td>\n      <td>m63SiTom5meYgkZ_SVfFKQ</td>\n      <td>Yummy eggplant quadratini!</td>\n      <td>2012-01-11 21:39:15</td>\n    </tr>\n    <tr>\n      <th>1</th>\n      <td>9OG5YkX1g2GReZM0AskizA</td>\n      <td>Romano's Macaroni Grill</td>\n      <td>NV</td>\n      <td>39.476117</td>\n      <td>-119.789339</td>\n      <td>Restaurants, Italian</td>\n      <td>xZbySvO07ZLCSDQcQceY5w</td>\n      <td>Lunch with a pet sitting client</td>\n      <td>2011-05-06 18:15:51</td>\n    </tr>\n    <tr>\n      <th>2</th>\n      <td>9OG5YkX1g2GReZM0AskizA</td>\n      <td>Romano's Macaroni Grill</td>\n      <td>NV</td>\n      <td>39.476117</td>\n      <td>-119.789339</td>\n      <td>Restaurants, Italian</td>\n      <td>-EiBrLlTNv9uG_xZJWLEvw</td>\n      <td>The Caesar dressing tastes like water and mayo...</td>\n      <td>2014-07-15 02:52:59</td>\n    </tr>\n    <tr>\n      <th>3</th>\n      <td>9OG5YkX1g2GReZM0AskizA</td>\n      <td>Romano's Macaroni Grill</td>\n      <td>NV</td>\n      <td>39.476117</td>\n      <td>-119.789339</td>\n      <td>Restaurants, Italian</td>\n      <td>xZbySvO07ZLCSDQcQceY5w</td>\n      <td>Lunch with a kitty mom/client at Mac grill. I ...</td>\n      <td>2011-04-18 17:50:03</td>\n    </tr>\n    <tr>\n      <th>4</th>\n      <td>9OG5YkX1g2GReZM0AskizA</td>\n      <td>Romano's Macaroni Grill</td>\n      <td>NV</td>\n      <td>39.476117</td>\n      <td>-119.789339</td>\n      <td>Restaurants, Italian</td>\n      <td>xC8CT98n1LE-CR0KSdp92A</td>\n      <td>Wonderful Italian food.  Great music.</td>\n      <td>2014-03-27 18:45:44</td>\n    </tr>\n  </tbody>\n</table>\n</div>"
     },
     "execution_count": 9,
     "metadata": {},
     "output_type": "execute_result"
    }
   ],
   "source": [
    "df_NV = df_new[df_new['state'] == 'NV'].reset_index(drop=True)\n",
    "print(df_NV.shape)\n",
    "print(df_NV.nunique())\n",
    "df_NV.head()"
   ],
   "metadata": {
    "collapsed": false,
    "ExecuteTime": {
     "end_time": "2023-10-23T09:24:50.936902200Z",
     "start_time": "2023-10-23T09:24:50.829395500Z"
    }
   },
   "id": "33c3d66133216826"
  },
  {
   "cell_type": "code",
   "execution_count": 10,
   "outputs": [
    {
     "name": "stdout",
     "output_type": "stream",
     "text": [
      "                                             coordinates   type\n",
      "business_id                                                    \n",
      "--8IbOsAAxjKRoYsBFL-PA           [-90.074523,30.0063408]  Point\n",
      "--S43ruInmIsGrnnkmavRw  [-90.1008188,29.920621899999997]  Point\n",
      "--x_BmZbxzK_nx_GHBaRVw          [-90.0620566,29.9575819]  Point\n",
      "--zb12mw2YK-7j6UaHzm8w          [-90.1064893,30.0194903]  Point\n",
      "-0__F9fnKt8uioCKztF5Ww           [-90.073235,29.9516963]  Point\n",
      "...                                                  ...    ...\n",
      "zxfqXVgZ_NvLY2lc1DAlJQ           [-90.0940442,29.926067]  Point\n",
      "zyRXfBnoE1JZVN4SE7OaaA          [-90.0617793,29.9587943]  Point\n",
      "zyrhpLocbo60EbS57jBTLw            [-90.066328,29.941828]  Point\n",
      "zzbZtgPYZS8sTIWQH6DwEw          [-90.1069741,29.9168565]  Point\n",
      "zzu6_r3DxBJuXcjnOYVdTw           [-90.0355581,29.911358]  Point\n",
      "\n",
      "[7813 rows x 2 columns]\n"
     ]
    }
   ],
   "source": [
    "poi_info = df_LA.filter(items=['latitude', 'longitude', 'business_id'])\n",
    "poi_info = poi_info.groupby('business_id').mean()\n",
    "\n",
    "coordinates = []\n",
    "for index, row in poi_info.iterrows():\n",
    "    coordinates.append('[{},{}]'.format(row['longitude'], row['latitude']))\n",
    "poi_info['coordinates'] = coordinates\n",
    "poi_info['type'] = 'Point'\n",
    "poi_info = poi_info.drop(['latitude', 'longitude'], axis=1)\n",
    "print(poi_info)\n"
   ],
   "metadata": {
    "collapsed": false,
    "ExecuteTime": {
     "end_time": "2023-10-23T09:32:03.474612200Z",
     "start_time": "2023-10-23T09:32:03.331077100Z"
    }
   },
   "id": "2fd4d7ecea4c62ae"
  },
  {
   "cell_type": "code",
   "execution_count": 13,
   "outputs": [
    {
     "name": "stdout",
     "output_type": "stream",
     "text": [
      "                 business_id                                       name  \\\n",
      "0     --8IbOsAAxjKRoYsBFL-PA                   The Original Italian Pie   \n",
      "1     --S43ruInmIsGrnnkmavRw                            Peaches Records   \n",
      "2     --x_BmZbxzK_nx_GHBaRVw                    New Orleans Movie Tours   \n",
      "3     --zb12mw2YK-7j6UaHzm8w  Billy Wright's Manuel's Style Hot Tamales   \n",
      "4     -0__F9fnKt8uioCKztF5Ww                                   Piscobar   \n",
      "...                      ...                                        ...   \n",
      "7806  zxfqXVgZ_NvLY2lc1DAlJQ                       Robin's Wharf Uptown   \n",
      "7807  zyRXfBnoE1JZVN4SE7OaaA                            Kulture Vulture   \n",
      "7808  zyrhpLocbo60EbS57jBTLw                           Generations Hall   \n",
      "7809  zzbZtgPYZS8sTIWQH6DwEw                            F & M Patio Bar   \n",
      "7810  zzu6_r3DxBJuXcjnOYVdTw                               Cafe Diblasi   \n",
      "\n",
      "                                             categories  \\\n",
      "0                            Food, Restaurants, Italian   \n",
      "1     Music & DVDs, Vinyl Records, Fashion, Women's ...   \n",
      "2     Arts & Entertainment, Cinema, Local Flavor, Ho...   \n",
      "3                                  Food, Street Vendors   \n",
      "4     Cafes, Nightlife, Cocktail Bars, Peruvian, Res...   \n",
      "...                                                 ...   \n",
      "7806  Venues & Event Spaces, Wraps, Restaurants, Eve...   \n",
      "7807  Shopping, Fashion, Men's Clothing, Children's ...   \n",
      "7808  Venues & Event Spaces, Event Planning & Servic...   \n",
      "7809  Food, American (Traditional), Nightlife, Resta...   \n",
      "7810                        Restaurants, Cafes, Italian   \n",
      "\n",
      "                                                   text  \n",
      "0     The Original Italian Pie Welcome to the neighb...  \n",
      "1     Peaches Records There selectiona are pricey fo...  \n",
      "2     New Orleans Movie Tours This was a great tour....  \n",
      "3     Billy Wright's Manuel's Style Hot Tamales Exce...  \n",
      "4     Piscobar Upstairs bar closed Monday and Tuesda...  \n",
      "...                                                 ...  \n",
      "7806  Robin's Wharf Uptown Soups count as a side wit...  \n",
      "7807  Kulture Vulture Cool Ass store! They sell a lo...  \n",
      "7808                   Generations Hall Fabulous venue.  \n",
      "7809  F & M Patio Bar Yes. Make fun. $20 credit card...  \n",
      "7810  Cafe Diblasi Great little Italian establishmen...  \n",
      "\n",
      "[7811 rows x 4 columns]\n",
      "                 business_id                       coordinates   type  \\\n",
      "0     --8IbOsAAxjKRoYsBFL-PA           [-90.074523,30.0063408]  Point   \n",
      "1     --S43ruInmIsGrnnkmavRw  [-90.1008188,29.920621899999997]  Point   \n",
      "2     --x_BmZbxzK_nx_GHBaRVw          [-90.0620566,29.9575819]  Point   \n",
      "3     --zb12mw2YK-7j6UaHzm8w          [-90.1064893,30.0194903]  Point   \n",
      "4     -0__F9fnKt8uioCKztF5Ww           [-90.073235,29.9516963]  Point   \n",
      "...                      ...                               ...    ...   \n",
      "7806  zxfqXVgZ_NvLY2lc1DAlJQ           [-90.0940442,29.926067]  Point   \n",
      "7807  zyRXfBnoE1JZVN4SE7OaaA          [-90.0617793,29.9587943]  Point   \n",
      "7808  zyrhpLocbo60EbS57jBTLw            [-90.066328,29.941828]  Point   \n",
      "7809  zzbZtgPYZS8sTIWQH6DwEw          [-90.1069741,29.9168565]  Point   \n",
      "7810  zzu6_r3DxBJuXcjnOYVdTw           [-90.0355581,29.911358]  Point   \n",
      "\n",
      "                                           categories_x  \\\n",
      "0                            Food, Restaurants, Italian   \n",
      "1     Music & DVDs, Vinyl Records, Fashion, Women's ...   \n",
      "2     Arts & Entertainment, Cinema, Local Flavor, Ho...   \n",
      "3                                  Food, Street Vendors   \n",
      "4     Cafes, Nightlife, Cocktail Bars, Peruvian, Res...   \n",
      "...                                                 ...   \n",
      "7806  Venues & Event Spaces, Wraps, Restaurants, Eve...   \n",
      "7807  Shopping, Fashion, Men's Clothing, Children's ...   \n",
      "7808  Venues & Event Spaces, Event Planning & Servic...   \n",
      "7809  Food, American (Traditional), Nightlife, Resta...   \n",
      "7810                        Restaurants, Cafes, Italian   \n",
      "\n",
      "                                                 text_x  \\\n",
      "0     Welcome to the neighborhood! Super sweet staff...   \n",
      "1     There selectiona are pricey for a records stor...   \n",
      "2            This was a great tour. Fun and informative   \n",
      "3     Excellent tamales.  I really enjoyed the eight...   \n",
      "4     Upstairs bar closed Monday and Tuesday Cool ba...   \n",
      "...                                                 ...   \n",
      "7806  Soups count as a side with no upcharge! Locati...   \n",
      "7807  Cool Ass store! They sell a lot of cool Rock a...   \n",
      "7808                                    Fabulous venue.   \n",
      "7809  Yes. Make fun. $20 credit card minimum Get a n...   \n",
      "7810  Great little Italian establishment!! Good for ...   \n",
      "\n",
      "                                         name_x  \\\n",
      "0                      The Original Italian Pie   \n",
      "1                               Peaches Records   \n",
      "2                       New Orleans Movie Tours   \n",
      "3     Billy Wright's Manuel's Style Hot Tamales   \n",
      "4                                      Piscobar   \n",
      "...                                         ...   \n",
      "7806                       Robin's Wharf Uptown   \n",
      "7807                            Kulture Vulture   \n",
      "7808                           Generations Hall   \n",
      "7809                            F & M Patio Bar   \n",
      "7810                               Cafe Diblasi   \n",
      "\n",
      "                                           categories_y  \\\n",
      "0                            Food, Restaurants, Italian   \n",
      "1     Music & DVDs, Vinyl Records, Fashion, Women's ...   \n",
      "2     Arts & Entertainment, Cinema, Local Flavor, Ho...   \n",
      "3                                  Food, Street Vendors   \n",
      "4     Cafes, Nightlife, Cocktail Bars, Peruvian, Res...   \n",
      "...                                                 ...   \n",
      "7806  Venues & Event Spaces, Wraps, Restaurants, Eve...   \n",
      "7807  Shopping, Fashion, Men's Clothing, Children's ...   \n",
      "7808  Venues & Event Spaces, Event Planning & Servic...   \n",
      "7809  Food, American (Traditional), Nightlife, Resta...   \n",
      "7810                        Restaurants, Cafes, Italian   \n",
      "\n",
      "                                                 text_y  \\\n",
      "0     Welcome to the neighborhood! Super sweet staff...   \n",
      "1     There selectiona are pricey for a records stor...   \n",
      "2            This was a great tour. Fun and informative   \n",
      "3     Excellent tamales.  I really enjoyed the eight...   \n",
      "4     Upstairs bar closed Monday and Tuesday Cool ba...   \n",
      "...                                                 ...   \n",
      "7806  Soups count as a side with no upcharge! Locati...   \n",
      "7807  Cool Ass store! They sell a lot of cool Rock a...   \n",
      "7808                                    Fabulous venue.   \n",
      "7809  Yes. Make fun. $20 credit card minimum Get a n...   \n",
      "7810  Great little Italian establishment!! Good for ...   \n",
      "\n",
      "                                         name_y  \\\n",
      "0                      The Original Italian Pie   \n",
      "1                               Peaches Records   \n",
      "2                       New Orleans Movie Tours   \n",
      "3     Billy Wright's Manuel's Style Hot Tamales   \n",
      "4                                      Piscobar   \n",
      "...                                         ...   \n",
      "7806                       Robin's Wharf Uptown   \n",
      "7807                            Kulture Vulture   \n",
      "7808                           Generations Hall   \n",
      "7809                            F & M Patio Bar   \n",
      "7810                               Cafe Diblasi   \n",
      "\n",
      "                                             categories  \\\n",
      "0                            Food, Restaurants, Italian   \n",
      "1     Music & DVDs, Vinyl Records, Fashion, Women's ...   \n",
      "2     Arts & Entertainment, Cinema, Local Flavor, Ho...   \n",
      "3                                  Food, Street Vendors   \n",
      "4     Cafes, Nightlife, Cocktail Bars, Peruvian, Res...   \n",
      "...                                                 ...   \n",
      "7806  Venues & Event Spaces, Wraps, Restaurants, Eve...   \n",
      "7807  Shopping, Fashion, Men's Clothing, Children's ...   \n",
      "7808  Venues & Event Spaces, Event Planning & Servic...   \n",
      "7809  Food, American (Traditional), Nightlife, Resta...   \n",
      "7810                        Restaurants, Cafes, Italian   \n",
      "\n",
      "                                                   text  \n",
      "0     The Original Italian Pie Welcome to the neighb...  \n",
      "1     Peaches Records There selectiona are pricey fo...  \n",
      "2     New Orleans Movie Tours This was a great tour....  \n",
      "3     Billy Wright's Manuel's Style Hot Tamales Exce...  \n",
      "4     Piscobar Upstairs bar closed Monday and Tuesda...  \n",
      "...                                                 ...  \n",
      "7806  Robin's Wharf Uptown Soups count as a side wit...  \n",
      "7807  Kulture Vulture Cool Ass store! They sell a lo...  \n",
      "7808                   Generations Hall Fabulous venue.  \n",
      "7809  F & M Patio Bar Yes. Make fun. $20 credit card...  \n",
      "7810  Cafe Diblasi Great little Italian establishmen...  \n",
      "\n",
      "[7811 rows x 11 columns]\n"
     ]
    }
   ],
   "source": [
    "category_info = df_LA.filter(items=['business_id', 'name', 'categories', 'text'])\n",
    "category_info = category_info.groupby(['business_id','name','categories'], as_index = False).agg({'text':' '.join})\n",
    "category_info['text'] = category_info['name'] + \" \" + category_info['text']\n",
    "print(category_info)\n",
    "category_info = category_info.drop_duplicates(['business_id'])\n",
    "\n",
    "poi_info = pd.merge(poi_info, category_info, on='business_id')\n",
    "print(poi_info)"
   ],
   "metadata": {
    "collapsed": false,
    "ExecuteTime": {
     "end_time": "2023-10-23T09:35:13.252982200Z",
     "start_time": "2023-10-23T09:35:13.144477300Z"
    }
   },
   "id": "e283955a6903f7a4"
  },
  {
   "cell_type": "code",
   "execution_count": 16,
   "outputs": [
    {
     "name": "stdout",
     "output_type": "stream",
     "text": [
      "                                             coordinates   type\n",
      "business_id                                                    \n",
      "--8IbOsAAxjKRoYsBFL-PA           [-90.074523,30.0063408]  Point\n",
      "--S43ruInmIsGrnnkmavRw  [-90.1008188,29.920621899999997]  Point\n",
      "--x_BmZbxzK_nx_GHBaRVw          [-90.0620566,29.9575819]  Point\n",
      "--zb12mw2YK-7j6UaHzm8w          [-90.1064893,30.0194903]  Point\n",
      "-0__F9fnKt8uioCKztF5Ww           [-90.073235,29.9516963]  Point\n",
      "...                                                  ...    ...\n",
      "zxfqXVgZ_NvLY2lc1DAlJQ           [-90.0940442,29.926067]  Point\n",
      "zyRXfBnoE1JZVN4SE7OaaA          [-90.0617793,29.9587943]  Point\n",
      "zyrhpLocbo60EbS57jBTLw            [-90.066328,29.941828]  Point\n",
      "zzbZtgPYZS8sTIWQH6DwEw          [-90.1069741,29.9168565]  Point\n",
      "zzu6_r3DxBJuXcjnOYVdTw           [-90.0355581,29.911358]  Point\n",
      "\n",
      "[7813 rows x 2 columns]\n",
      "                 business_id                       coordinates   type  \\\n",
      "0     --8IbOsAAxjKRoYsBFL-PA           [-90.074523,30.0063408]  Point   \n",
      "1     --S43ruInmIsGrnnkmavRw  [-90.1008188,29.920621899999997]  Point   \n",
      "2     --x_BmZbxzK_nx_GHBaRVw          [-90.0620566,29.9575819]  Point   \n",
      "3     --zb12mw2YK-7j6UaHzm8w          [-90.1064893,30.0194903]  Point   \n",
      "4     -0__F9fnKt8uioCKztF5Ww           [-90.073235,29.9516963]  Point   \n",
      "...                      ...                               ...    ...   \n",
      "7806  zxfqXVgZ_NvLY2lc1DAlJQ           [-90.0940442,29.926067]  Point   \n",
      "7807  zyRXfBnoE1JZVN4SE7OaaA          [-90.0617793,29.9587943]  Point   \n",
      "7808  zyrhpLocbo60EbS57jBTLw            [-90.066328,29.941828]  Point   \n",
      "7809  zzbZtgPYZS8sTIWQH6DwEw          [-90.1069741,29.9168565]  Point   \n",
      "7810  zzu6_r3DxBJuXcjnOYVdTw           [-90.0355581,29.911358]  Point   \n",
      "\n",
      "                                           name  \\\n",
      "0                      The Original Italian Pie   \n",
      "1                               Peaches Records   \n",
      "2                       New Orleans Movie Tours   \n",
      "3     Billy Wright's Manuel's Style Hot Tamales   \n",
      "4                                      Piscobar   \n",
      "...                                         ...   \n",
      "7806                       Robin's Wharf Uptown   \n",
      "7807                            Kulture Vulture   \n",
      "7808                           Generations Hall   \n",
      "7809                            F & M Patio Bar   \n",
      "7810                               Cafe Diblasi   \n",
      "\n",
      "                                             categories  \\\n",
      "0                            Food, Restaurants, Italian   \n",
      "1     Music & DVDs, Vinyl Records, Fashion, Women's ...   \n",
      "2     Arts & Entertainment, Cinema, Local Flavor, Ho...   \n",
      "3                                  Food, Street Vendors   \n",
      "4     Cafes, Nightlife, Cocktail Bars, Peruvian, Res...   \n",
      "...                                                 ...   \n",
      "7806  Venues & Event Spaces, Wraps, Restaurants, Eve...   \n",
      "7807  Shopping, Fashion, Men's Clothing, Children's ...   \n",
      "7808  Venues & Event Spaces, Event Planning & Servic...   \n",
      "7809  Food, American (Traditional), Nightlife, Resta...   \n",
      "7810                        Restaurants, Cafes, Italian   \n",
      "\n",
      "                                                   text  \n",
      "0     The Original Italian Pie Welcome to the neighb...  \n",
      "1     Peaches Records There selectiona are pricey fo...  \n",
      "2     New Orleans Movie Tours This was a great tour....  \n",
      "3     Billy Wright's Manuel's Style Hot Tamales Exce...  \n",
      "4     Piscobar Upstairs bar closed Monday and Tuesda...  \n",
      "...                                                 ...  \n",
      "7806  Robin's Wharf Uptown Soups count as a side wit...  \n",
      "7807  Kulture Vulture Cool Ass store! They sell a lo...  \n",
      "7808                   Generations Hall Fabulous venue.  \n",
      "7809  F & M Patio Bar Yes. Make fun. $20 credit card...  \n",
      "7810  Cafe Diblasi Great little Italian establishmen...  \n",
      "\n",
      "[7811 rows x 6 columns]\n",
      "                 business_id                       coordinates   type  \\\n",
      "0     --8IbOsAAxjKRoYsBFL-PA           [-90.074523,30.0063408]  Point   \n",
      "1     --S43ruInmIsGrnnkmavRw  [-90.1008188,29.920621899999997]  Point   \n",
      "2     --x_BmZbxzK_nx_GHBaRVw          [-90.0620566,29.9575819]  Point   \n",
      "3     --zb12mw2YK-7j6UaHzm8w          [-90.1064893,30.0194903]  Point   \n",
      "4     -0__F9fnKt8uioCKztF5Ww           [-90.073235,29.9516963]  Point   \n",
      "...                      ...                               ...    ...   \n",
      "7806  zxfqXVgZ_NvLY2lc1DAlJQ           [-90.0940442,29.926067]  Point   \n",
      "7807  zyRXfBnoE1JZVN4SE7OaaA          [-90.0617793,29.9587943]  Point   \n",
      "7808  zyrhpLocbo60EbS57jBTLw            [-90.066328,29.941828]  Point   \n",
      "7809  zzbZtgPYZS8sTIWQH6DwEw          [-90.1069741,29.9168565]  Point   \n",
      "7810  zzu6_r3DxBJuXcjnOYVdTw           [-90.0355581,29.911358]  Point   \n",
      "\n",
      "                                           name  \\\n",
      "0                      The Original Italian Pie   \n",
      "1                               Peaches Records   \n",
      "2                       New Orleans Movie Tours   \n",
      "3     Billy Wright's Manuel's Style Hot Tamales   \n",
      "4                                      Piscobar   \n",
      "...                                         ...   \n",
      "7806                       Robin's Wharf Uptown   \n",
      "7807                            Kulture Vulture   \n",
      "7808                           Generations Hall   \n",
      "7809                            F & M Patio Bar   \n",
      "7810                               Cafe Diblasi   \n",
      "\n",
      "                                             categories  \\\n",
      "0                              Food Restaurants Italian   \n",
      "1     Music  DVDs Vinyl Records Fashion Womens Cloth...   \n",
      "2     Arts  Entertainment Cinema Local Flavor Hotels...   \n",
      "3                                   Food Street Vendors   \n",
      "4     Cafes Nightlife Cocktail Bars Peruvian Restaur...   \n",
      "...                                                 ...   \n",
      "7806  Venues  Event Spaces Wraps Restaurants Event P...   \n",
      "7807  Shopping Fashion Mens Clothing Childrens Cloth...   \n",
      "7808  Venues  Event Spaces Event Planning  Services ...   \n",
      "7809  Food American Traditional Nightlife Restaurant...   \n",
      "7810                          Restaurants Cafes Italian   \n",
      "\n",
      "                                                   text  \n",
      "0     The Original Italian Pie Welcome to the neighb...  \n",
      "1     Peaches Records There selectiona are pricey fo...  \n",
      "2     New Orleans Movie Tours This was a great tour ...  \n",
      "3     Billy Wrights Manuels Style Hot Tamales Excell...  \n",
      "4     Piscobar Upstairs bar closed Monday and Tuesda...  \n",
      "...                                                 ...  \n",
      "7806  Robins Wharf Uptown Soups count as a side with...  \n",
      "7807  Kulture Vulture Cool Ass store They sell a lot...  \n",
      "7808                    Generations Hall Fabulous venue  \n",
      "7809  F  M Patio Bar Yes Make fun 20 credit card min...  \n",
      "7810  Cafe Diblasi Great little Italian establishmen...  \n",
      "\n",
      "[7811 rows x 6 columns]\n",
      "      index             business_id                       coordinates   type  \\\n",
      "0         0  --8IbOsAAxjKRoYsBFL-PA           [-90.074523,30.0063408]  Point   \n",
      "1         1  --S43ruInmIsGrnnkmavRw  [-90.1008188,29.920621899999997]  Point   \n",
      "2         2  --x_BmZbxzK_nx_GHBaRVw          [-90.0620566,29.9575819]  Point   \n",
      "3         3  --zb12mw2YK-7j6UaHzm8w          [-90.1064893,30.0194903]  Point   \n",
      "4         4  -0__F9fnKt8uioCKztF5Ww           [-90.073235,29.9516963]  Point   \n",
      "...     ...                     ...                               ...    ...   \n",
      "7806   7806  zxfqXVgZ_NvLY2lc1DAlJQ           [-90.0940442,29.926067]  Point   \n",
      "7807   7807  zyRXfBnoE1JZVN4SE7OaaA          [-90.0617793,29.9587943]  Point   \n",
      "7808   7808  zyrhpLocbo60EbS57jBTLw            [-90.066328,29.941828]  Point   \n",
      "7809   7809  zzbZtgPYZS8sTIWQH6DwEw          [-90.1069741,29.9168565]  Point   \n",
      "7810   7810  zzu6_r3DxBJuXcjnOYVdTw           [-90.0355581,29.911358]  Point   \n",
      "\n",
      "                                           name  \\\n",
      "0                      The Original Italian Pie   \n",
      "1                               Peaches Records   \n",
      "2                       New Orleans Movie Tours   \n",
      "3     Billy Wright's Manuel's Style Hot Tamales   \n",
      "4                                      Piscobar   \n",
      "...                                         ...   \n",
      "7806                       Robin's Wharf Uptown   \n",
      "7807                            Kulture Vulture   \n",
      "7808                           Generations Hall   \n",
      "7809                            F & M Patio Bar   \n",
      "7810                               Cafe Diblasi   \n",
      "\n",
      "                                             categories  \\\n",
      "0                              Food Restaurants Italian   \n",
      "1     Music  DVDs Vinyl Records Fashion Womens Cloth...   \n",
      "2     Arts  Entertainment Cinema Local Flavor Hotels...   \n",
      "3                                   Food Street Vendors   \n",
      "4     Cafes Nightlife Cocktail Bars Peruvian Restaur...   \n",
      "...                                                 ...   \n",
      "7806  Venues  Event Spaces Wraps Restaurants Event P...   \n",
      "7807  Shopping Fashion Mens Clothing Childrens Cloth...   \n",
      "7808  Venues  Event Spaces Event Planning  Services ...   \n",
      "7809  Food American Traditional Nightlife Restaurant...   \n",
      "7810                          Restaurants Cafes Italian   \n",
      "\n",
      "                                                   text  geo_id  \n",
      "0     The Original Italian Pie Welcome to the neighb...       0  \n",
      "1     Peaches Records There selectiona are pricey fo...       1  \n",
      "2     New Orleans Movie Tours This was a great tour ...       2  \n",
      "3     Billy Wrights Manuels Style Hot Tamales Excell...       3  \n",
      "4     Piscobar Upstairs bar closed Monday and Tuesda...       4  \n",
      "...                                                 ...     ...  \n",
      "7806  Robins Wharf Uptown Soups count as a side with...    7806  \n",
      "7807  Kulture Vulture Cool Ass store They sell a lot...    7807  \n",
      "7808                    Generations Hall Fabulous venue    7808  \n",
      "7809  F  M Patio Bar Yes Make fun 20 credit card min...    7809  \n",
      "7810  Cafe Diblasi Great little Italian establishmen...    7810  \n",
      "\n",
      "[7811 rows x 8 columns]\n",
      "      geo_id   type                       coordinates  \\\n",
      "0          0  Point           [-90.074523,30.0063408]   \n",
      "1          1  Point  [-90.1008188,29.920621899999997]   \n",
      "2          2  Point          [-90.0620566,29.9575819]   \n",
      "3          3  Point          [-90.1064893,30.0194903]   \n",
      "4          4  Point           [-90.073235,29.9516963]   \n",
      "...      ...    ...                               ...   \n",
      "7806    7806  Point           [-90.0940442,29.926067]   \n",
      "7807    7807  Point          [-90.0617793,29.9587943]   \n",
      "7808    7808  Point            [-90.066328,29.941828]   \n",
      "7809    7809  Point          [-90.1069741,29.9168565]   \n",
      "7810    7810  Point           [-90.0355581,29.911358]   \n",
      "\n",
      "                                             categories  \\\n",
      "0                              Food Restaurants Italian   \n",
      "1     Music  DVDs Vinyl Records Fashion Womens Cloth...   \n",
      "2     Arts  Entertainment Cinema Local Flavor Hotels...   \n",
      "3                                   Food Street Vendors   \n",
      "4     Cafes Nightlife Cocktail Bars Peruvian Restaur...   \n",
      "...                                                 ...   \n",
      "7806  Venues  Event Spaces Wraps Restaurants Event P...   \n",
      "7807  Shopping Fashion Mens Clothing Childrens Cloth...   \n",
      "7808  Venues  Event Spaces Event Planning  Services ...   \n",
      "7809  Food American Traditional Nightlife Restaurant...   \n",
      "7810                          Restaurants Cafes Italian   \n",
      "\n",
      "                                                   text  \n",
      "0     The Original Italian Pie Welcome to the neighb...  \n",
      "1     Peaches Records There selectiona are pricey fo...  \n",
      "2     New Orleans Movie Tours This was a great tour ...  \n",
      "3     Billy Wrights Manuels Style Hot Tamales Excell...  \n",
      "4     Piscobar Upstairs bar closed Monday and Tuesda...  \n",
      "...                                                 ...  \n",
      "7806  Robins Wharf Uptown Soups count as a side with...  \n",
      "7807  Kulture Vulture Cool Ass store They sell a lot...  \n",
      "7808                    Generations Hall Fabulous venue  \n",
      "7809  F  M Patio Bar Yes Make fun 20 credit card min...  \n",
      "7810  Cafe Diblasi Great little Italian establishmen...  \n",
      "\n",
      "[7811 rows x 5 columns]\n"
     ]
    }
   ],
   "source": [
    "poi_info = df_LA.filter(items=['latitude', 'name', 'longitude', 'business_id'])\n",
    "poi_info = poi_info.groupby('business_id').mean()\n",
    "\n",
    "coordinates = []\n",
    "for index, row in poi_info.iterrows():\n",
    "    coordinates.append('[{},{}]'.format(row['longitude'], row['latitude']))\n",
    "poi_info['coordinates'] = coordinates\n",
    "poi_info['type'] = 'Point'\n",
    "poi_info = poi_info.drop(['latitude', 'longitude'], axis=1)\n",
    "print(poi_info)\n",
    "category_info = df_LA.filter(items=['business_id', 'name', 'categories', 'text'])\n",
    "category_info = category_info.groupby(['business_id','name','categories'], as_index = False).agg({'text':' '.join})\n",
    "category_info['text'] = category_info['name'] + \" \" + category_info['text']\n",
    "category_info = category_info.drop_duplicates(['business_id'])\n",
    "\n",
    "poi_info = pd.merge(poi_info, category_info, on='business_id')\n",
    "print(poi_info)\n",
    "poi_info['categories'] = poi_info['categories'].str.replace(r'[^\\w\\s]', '', regex=True)\n",
    "poi_info['text'] = poi_info['text'].str.replace(r'[^\\w\\s]', '', regex=True)\n",
    "print(poi_info)\n",
    "poi_info.reset_index(inplace=True)\n",
    "poi_info['geo_id'] = poi_info.index\n",
    "print(poi_info)\n",
    "loc_hash2ID = poi_info.filter(items=['business_id', 'geo_id'])\n",
    "poi_info = poi_info.reindex(columns=['geo_id', 'type', 'coordinates', 'categories', 'text'])\n",
    "print(poi_info)"
   ],
   "metadata": {
    "collapsed": false,
    "ExecuteTime": {
     "end_time": "2023-10-23T09:38:19.891037Z",
     "start_time": "2023-10-23T09:38:19.458006900Z"
    }
   },
   "id": "3be1e039712a6e6"
  },
  {
   "cell_type": "code",
   "execution_count": 17,
   "outputs": [],
   "source": [
    "def generate_geo(df):\n",
    "    poi_info = df.filter(items=['name', 'latitude', 'longitude', 'business_id'])\n",
    "    poi_info = poi_info.groupby('business_id').mean()\n",
    "    \n",
    "    coordinates = []\n",
    "    for index, row in poi_info.iterrows():\n",
    "        coordinates.append('[{},{}]'.format(row['longitude'], row['latitude']))\n",
    "    poi_info['coordinates'] = coordinates\n",
    "    poi_info['type'] = 'Point'\n",
    "    poi_info = poi_info.drop(['latitude', 'longitude'], axis=1)\n",
    "    category_info = df.filter(items=['business_id', 'name', 'categories', 'text'])\n",
    "    category_info = category_info.groupby(['business_id', 'name', 'categories'], as_index = False).agg({'text':' '.join})\n",
    "    category_info['text'] = category_info['name'] + \" \" + category_info['text']\n",
    "    category_info = category_info.drop_duplicates(['business_id'])\n",
    "    \n",
    "    poi_info = pd.merge(poi_info, category_info, on='business_id')\n",
    "    poi_info['categories'] = poi_info['categories'].str.replace(r'[^\\w\\s]', '', regex=True)\n",
    "    poi_info['text'] = poi_info['text'].str.replace(r'[^\\w\\s]', '', regex=True)\n",
    "    poi_info.reset_index(inplace=True)\n",
    "    poi_info['geo_id'] = poi_info.index\n",
    "    loc_hash2ID = poi_info.filter(items=['business_id', 'geo_id'])\n",
    "    poi_info = poi_info.reindex(columns=['geo_id', 'type', 'coordinates', 'categories', 'text'])\n",
    "    \n",
    "    return poi_info, loc_hash2ID"
   ],
   "metadata": {
    "collapsed": false,
    "ExecuteTime": {
     "end_time": "2023-10-23T09:57:53.009068600Z",
     "start_time": "2023-10-23T09:57:52.997065400Z"
    }
   },
   "id": "bf67abd7d259969c"
  },
  {
   "cell_type": "code",
   "execution_count": 20,
   "outputs": [],
   "source": [
    "poi_info_nv, loc_hash2ID_nv = generate_geo(df_NV)\n",
    "output_folder_nv = 'yelp_nv'\n",
    "\n",
    "poi_info_nv.to_csv(output_folder_nv + '/yelp_nv.geo', index=False)\n"
   ],
   "metadata": {
    "collapsed": false,
    "ExecuteTime": {
     "end_time": "2023-10-23T10:02:45.783763300Z",
     "start_time": "2023-10-23T10:02:45.543539300Z"
    }
   },
   "id": "164852670e95e93b"
  },
  {
   "cell_type": "code",
   "execution_count": 21,
   "outputs": [],
   "source": [
    "poi_info_la,loc_hash2ID_la = generate_geo(df_LA)\n",
    "output_folder_la = 'yelp_la'\n",
    "\n",
    "poi_info_la.to_csv(output_folder_la + '/yelp_la.geo', index=False)"
   ],
   "metadata": {
    "collapsed": false,
    "ExecuteTime": {
     "end_time": "2023-10-23T10:02:48.046577500Z",
     "start_time": "2023-10-23T10:02:47.556324900Z"
    }
   },
   "id": "549efdd5f7c59b54"
  },
  {
   "cell_type": "code",
   "execution_count": 35,
   "outputs": [],
   "source": [
    "# 处理 usr\n",
    "user = pd.unique(df_NV['user_id'])\n",
    "user = pd.DataFrame(user, columns=['user_id'])\n",
    "user['usr_id'] = user.index\n",
    "\n",
    "# 处理dyna\n",
    "dyna = df_NV.filter(items=['user_id', 'business_id', 'date', 'text'])\n",
    "dyna = pd.merge(dyna, loc_hash2ID_nv, on='business_id')\n",
    "dyna = pd.merge(dyna, user, on='user_id')\n",
    "time = []\n",
    "text = []\n",
    "\n",
    "for index, row in dyna.iterrows():\n",
    "    # date = datetime.strptime(row['date'], '%Y-%m-%d %H:%M:%S')\n",
    "    date = row['date'].to_pydatetime()\n",
    "    time.append(date.strftime('%Y-%m-%dT%H:%M:%SZ'))  # 2020-12-07T02:59:46\n",
    "   \n",
    "    no_punct_text = row['text'].translate(str.maketrans('', '', string.punctuation))\n",
    "    text.append(no_punct_text)\n",
    "    # 最后一个是空格\n",
    "dyna['time'] = time\n",
    "dyna['text'] = text\n",
    "dyna['type'] = 'trajectory'\n",
    "\n",
    "dyna = dyna.rename(columns={'geo_id': 'location', 'usr_id': 'entity_id'})\n",
    "dyna = dyna.sort_values(by='time')\n",
    "dyna = dyna.reset_index(drop=True)\n",
    "dyna['dyna_id'] = dyna.index\n",
    "dyna = dyna.reindex(columns=['dyna_id', 'type', 'time', 'entity_id', 'location','text'])\n",
    "dyna.to_csv(output_folder_nv + '/yelp_nv.dyna', index=False)\n",
    "\n",
    "user = user.drop(['user_id'], axis=1)\n",
    "user.to_csv(output_folder_nv + '/yelp_nv.usr', index=False)"
   ],
   "metadata": {
    "collapsed": false,
    "ExecuteTime": {
     "end_time": "2023-09-29T13:05:37.110908100Z",
     "start_time": "2023-09-29T13:05:34.681424300Z"
    }
   },
   "id": "bae546ca76758294"
  },
  {
   "cell_type": "code",
   "execution_count": null,
   "outputs": [],
   "source": [],
   "metadata": {
    "collapsed": false
   },
   "id": "1e1a4872aa9cbbd2"
  },
  {
   "cell_type": "code",
   "execution_count": 36,
   "outputs": [
    {
     "name": "stdout",
     "output_type": "stream",
     "text": [
      "                       user_id             business_id                date  \\\n",
      "0       X4k8ugJaihHVLHq32rNTwQ  w_AMNoI1iG9eay7ncmc67w 2013-06-03 17:48:26   \n",
      "1       X4k8ugJaihHVLHq32rNTwQ  w_AMNoI1iG9eay7ncmc67w 2013-06-02 16:29:09   \n",
      "2       GGWUR0XU262iZkVtJ6sZQw  w_AMNoI1iG9eay7ncmc67w 2018-10-23 17:36:49   \n",
      "3       5JRrwPNQH3mMIXVEOYuZMw  Si6LXSR9gvAbmgO5DzV2cw 2016-07-31 15:10:26   \n",
      "4       6K5wCAYi4CB5dGH0QqEFRg  Si6LXSR9gvAbmgO5DzV2cw 2017-03-26 03:18:45   \n",
      "...                        ...                     ...                 ...   \n",
      "106463  YW1n-AIspP9wwlQLHZzfQA  lCo7sEuxlfFeT-nAOR-sbA 2015-04-15 22:46:07   \n",
      "106464  LGFIMtybUQQuErEmjM17LQ  lCo7sEuxlfFeT-nAOR-sbA 2014-08-07 23:41:24   \n",
      "106465  Zo1vFDjTkmEdz-FSsiY6fg  lCo7sEuxlfFeT-nAOR-sbA 2014-08-04 13:45:29   \n",
      "106466  slOXiLnFiFyEgHMWQyhvXw  lCo7sEuxlfFeT-nAOR-sbA 2012-11-20 21:09:39   \n",
      "106467  nzE3PIraNVdv_rCR8-7f6A  lCo7sEuxlfFeT-nAOR-sbA 2012-04-19 01:28:00   \n",
      "\n",
      "                                                     text  geo_id  \n",
      "0                                      Last vacation meal    7352  \n",
      "1       Looking for something other than oysters this ...    7352  \n",
      "2       Burger and fried were really good. Menu is ver...    7352  \n",
      "3       Great food and service! Outstanding seafood pl...    3565  \n",
      "4       Everything is ok. Nothing really stellar, almo...    3565  \n",
      "...                                                   ...     ...  \n",
      "106463  Terrible and long wait times!\\nDid not expect ...    6002  \n",
      "106464  Don't ever go if you're looking to fix your iP...    6002  \n",
      "106465  Right across the hall from a Cafe Du Monde. Da...    6002  \n",
      "106466                                 Getting my geek on    6002  \n",
      "106467  OUTSTANDING customer service from all 4 of the...    6002  \n",
      "\n",
      "[106468 rows x 5 columns]\n"
     ]
    }
   ],
   "source": [
    "# 处理 usr\n",
    "user = pd.unique(df_LA['user_id'])\n",
    "user = pd.DataFrame(user, columns=['user_id'])\n",
    "user['usr_id'] = user.index\n",
    "\n",
    "# 处理dyna\n",
    "dyna = df_LA.filter(items=['user_id', 'business_id', 'date', 'text'])\n",
    "\n",
    "dyna = pd.merge(dyna, loc_hash2ID_la, on='business_id')\n",
    "dyna = pd.merge(dyna, user, on='user_id')\n",
    "time = []\n",
    "text = []\n",
    "\n",
    "for index, row in dyna.iterrows():\n",
    "    # date = datetime.strptime(row['date'], '%Y-%m-%d %H:%M:%S')\n",
    "    date = row['date'].to_pydatetime()\n",
    "    time.append(date.strftime('%Y-%m-%dT%H:%M:%SZ'))  # 2020-12-07T02:59:46\n",
    "   \n",
    "    no_punct_text = row['text'].translate(str.maketrans('', '', string.punctuation))\n",
    "    text.append(no_punct_text)\n",
    "    \n",
    "dyna['time'] = time\n",
    "dyna['text'] = text\n",
    "dyna['type'] = 'trajectory'\n",
    "dyna = dyna.rename(columns={'geo_id': 'location', 'usr_id': 'entity_id'})\n",
    "dyna = dyna.sort_values(by='time')\n",
    "dyna = dyna.reset_index(drop=True)\n",
    "dyna['dyna_id'] = dyna.index\n",
    "dyna['type'] = 'trajectory'\n",
    "dyna = dyna.rename(columns={'geo_id': 'location', 'usr_id': 'entity_id'})\n",
    "dyna = dyna.sort_values(by='time')\n",
    "dyna = dyna.reset_index(drop=True)\n",
    "dyna['dyna_id'] = dyna.index\n",
    "dyna = dyna.reindex(columns=['dyna_id', 'type', 'time', 'entity_id', 'location','text'])\n",
    "\n",
    "dyna.to_csv(output_folder_la + '/yelp_la.dyna', index=False)\n",
    "\n",
    "user = user.drop(['user_id'], axis=1)\n",
    "user.to_csv(output_folder_la + '/yelp_la.usr', index=False)"
   ],
   "metadata": {
    "collapsed": false,
    "ExecuteTime": {
     "end_time": "2023-09-29T13:06:58.568670600Z",
     "start_time": "2023-09-29T13:06:53.861837400Z"
    }
   },
   "id": "6e3dee7b59c8e48a"
  }
 ],
 "metadata": {
  "kernelspec": {
   "display_name": "Python 3",
   "language": "python",
   "name": "python3"
  },
  "language_info": {
   "codemirror_mode": {
    "name": "ipython",
    "version": 2
   },
   "file_extension": ".py",
   "mimetype": "text/x-python",
   "name": "python",
   "nbconvert_exporter": "python",
   "pygments_lexer": "ipython2",
   "version": "2.7.6"
  }
 },
 "nbformat": 4,
 "nbformat_minor": 5
}
