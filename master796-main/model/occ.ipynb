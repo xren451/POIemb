{
 "cells": [
  {
   "cell_type": "code",
   "execution_count": 2,
   "id": "initial_id",
   "metadata": {
    "collapsed": true,
    "ExecuteTime": {
     "end_time": "2023-09-29T11:55:23.716564400Z",
     "start_time": "2023-09-29T11:55:23.516370200Z"
    }
   },
   "outputs": [],
   "source": [
    "from collections import defaultdict\n",
    "\n",
    "import numpy as np\n",
    "import pandas as pd\n"
   ]
  },
  {
   "cell_type": "code",
   "execution_count": 3,
   "outputs": [
    {
     "data": {
      "text/plain": "   geo_id   type                             coordinates  \\\n0       0  Point  [-74.00313913822173,40.73359624463057]   \n1       1  Point  [-73.97573416870671,40.75810221550426]   \n2       2  Point  [-74.00309176330678,40.65276619423542]   \n3       3  Point  [-73.98003864274011,40.72696058176322]   \n4       4  Point  [-73.96764401966811,40.75636758214827]   \n\n          venue_category_id   venue_category_name  \n0  4bf58dd8d48988d1e7931735           Music Venue  \n1  4bf58dd8d48988d176941735  Gym / Fitness Center  \n2  4bf58dd8d48988d1e4931735         Bowling Alley  \n3  4bf58dd8d48988d118941735                   Bar  \n4  4bf58dd8d48988d11d941735                   Bar  ",
      "text/html": "<div>\n<style scoped>\n    .dataframe tbody tr th:only-of-type {\n        vertical-align: middle;\n    }\n\n    .dataframe tbody tr th {\n        vertical-align: top;\n    }\n\n    .dataframe thead th {\n        text-align: right;\n    }\n</style>\n<table border=\"1\" class=\"dataframe\">\n  <thead>\n    <tr style=\"text-align: right;\">\n      <th></th>\n      <th>geo_id</th>\n      <th>type</th>\n      <th>coordinates</th>\n      <th>venue_category_id</th>\n      <th>venue_category_name</th>\n    </tr>\n  </thead>\n  <tbody>\n    <tr>\n      <th>0</th>\n      <td>0</td>\n      <td>Point</td>\n      <td>[-74.00313913822173,40.73359624463057]</td>\n      <td>4bf58dd8d48988d1e7931735</td>\n      <td>Music Venue</td>\n    </tr>\n    <tr>\n      <th>1</th>\n      <td>1</td>\n      <td>Point</td>\n      <td>[-73.97573416870671,40.75810221550426]</td>\n      <td>4bf58dd8d48988d176941735</td>\n      <td>Gym / Fitness Center</td>\n    </tr>\n    <tr>\n      <th>2</th>\n      <td>2</td>\n      <td>Point</td>\n      <td>[-74.00309176330678,40.65276619423542]</td>\n      <td>4bf58dd8d48988d1e4931735</td>\n      <td>Bowling Alley</td>\n    </tr>\n    <tr>\n      <th>3</th>\n      <td>3</td>\n      <td>Point</td>\n      <td>[-73.98003864274011,40.72696058176322]</td>\n      <td>4bf58dd8d48988d118941735</td>\n      <td>Bar</td>\n    </tr>\n    <tr>\n      <th>4</th>\n      <td>4</td>\n      <td>Point</td>\n      <td>[-73.96764401966811,40.75636758214827]</td>\n      <td>4bf58dd8d48988d11d941735</td>\n      <td>Bar</td>\n    </tr>\n  </tbody>\n</table>\n</div>"
     },
     "execution_count": 3,
     "metadata": {},
     "output_type": "execute_result"
    }
   ],
   "source": [
    "foursquare_nyc_geo_path = 'raw_data/foursquare_nyc/foursquare_nyc.geo'\n",
    "foursquare_nyc_dyna_path = \"raw_data/foursquare_nyc/foursquare_nyc.dyna\"\n",
    "geo_data = pd.read_csv(foursquare_nyc_geo_path)\n",
    "dyna_data = pd.read_csv(foursquare_nyc_dyna_path)\n",
    "geo_data.head()"
   ],
   "metadata": {
    "collapsed": false,
    "ExecuteTime": {
     "end_time": "2023-09-28T06:37:16.885326400Z",
     "start_time": "2023-09-28T06:37:16.747248900Z"
    }
   },
   "id": "5e6cad4685bdd406"
  },
  {
   "cell_type": "code",
   "execution_count": 23,
   "outputs": [
    {
     "data": {
      "text/plain": "   dyna_id        type                  time  entity_id  location\n0        0  trajectory  2012-04-03T14:00:09Z          0      2388\n1        1  trajectory  2012-04-03T14:00:25Z          1      3921\n2        2  trajectory  2012-04-03T14:02:24Z          2     20328\n3        3  trajectory  2012-04-03T14:02:41Z          3     15114\n4        4  trajectory  2012-04-03T14:03:00Z          4     23550",
      "text/html": "<div>\n<style scoped>\n    .dataframe tbody tr th:only-of-type {\n        vertical-align: middle;\n    }\n\n    .dataframe tbody tr th {\n        vertical-align: top;\n    }\n\n    .dataframe thead th {\n        text-align: right;\n    }\n</style>\n<table border=\"1\" class=\"dataframe\">\n  <thead>\n    <tr style=\"text-align: right;\">\n      <th></th>\n      <th>dyna_id</th>\n      <th>type</th>\n      <th>time</th>\n      <th>entity_id</th>\n      <th>location</th>\n    </tr>\n  </thead>\n  <tbody>\n    <tr>\n      <th>0</th>\n      <td>0</td>\n      <td>trajectory</td>\n      <td>2012-04-03T14:00:09Z</td>\n      <td>0</td>\n      <td>2388</td>\n    </tr>\n    <tr>\n      <th>1</th>\n      <td>1</td>\n      <td>trajectory</td>\n      <td>2012-04-03T14:00:25Z</td>\n      <td>1</td>\n      <td>3921</td>\n    </tr>\n    <tr>\n      <th>2</th>\n      <td>2</td>\n      <td>trajectory</td>\n      <td>2012-04-03T14:02:24Z</td>\n      <td>2</td>\n      <td>20328</td>\n    </tr>\n    <tr>\n      <th>3</th>\n      <td>3</td>\n      <td>trajectory</td>\n      <td>2012-04-03T14:02:41Z</td>\n      <td>3</td>\n      <td>15114</td>\n    </tr>\n    <tr>\n      <th>4</th>\n      <td>4</td>\n      <td>trajectory</td>\n      <td>2012-04-03T14:03:00Z</td>\n      <td>4</td>\n      <td>23550</td>\n    </tr>\n  </tbody>\n</table>\n</div>"
     },
     "execution_count": 23,
     "metadata": {},
     "output_type": "execute_result"
    }
   ],
   "source": [
    "dyna_data.head()"
   ],
   "metadata": {
    "collapsed": false,
    "ExecuteTime": {
     "end_time": "2023-09-28T06:58:51.197320100Z",
     "start_time": "2023-09-28T06:58:51.179320300Z"
    }
   },
   "id": "1435c817470b76b3"
  },
  {
   "cell_type": "markdown",
   "source": [],
   "metadata": {
    "collapsed": false
   },
   "id": "d98d4534db6ac247"
  },
  {
   "cell_type": "code",
   "execution_count": 10,
   "outputs": [],
   "source": [
    "# filter the poi has not been checked in less than threhold times\n",
    "def filter_location_checkin(df, threshold=5):\n",
    "    venue_counts = df['location'].value_counts()\n",
    "    filtered_venues = venue_counts[venue_counts >= threshold].index\n",
    "    df = df[df['location'].isin(filtered_venues)]\n",
    "    return df"
   ],
   "metadata": {
    "collapsed": false,
    "ExecuteTime": {
     "end_time": "2023-09-28T06:41:58.297391500Z",
     "start_time": "2023-09-28T06:41:58.285137Z"
    }
   },
   "id": "9ee1f2139cf0b57d"
  },
  {
   "cell_type": "code",
   "execution_count": 13,
   "outputs": [
    {
     "data": {
      "text/plain": "        dyna_id        type                  time  entity_id  location\n0             0  trajectory  2012-04-03T14:00:09Z          0      2388\n1             1  trajectory  2012-04-03T14:00:25Z          1      3921\n2             2  trajectory  2012-04-03T14:02:24Z          2     20328\n3             3  trajectory  2012-04-03T14:02:41Z          3     15114\n4             4  trajectory  2012-04-03T14:03:00Z          4     23550\n...         ...         ...                   ...        ...       ...\n227423   227423  trajectory  2013-02-15T21:29:11Z        136         0\n227424   227424  trajectory  2013-02-15T21:31:35Z        535     15284\n227425   227425  trajectory  2013-02-15T21:33:16Z        729     37855\n227426   227426  trajectory  2013-02-15T21:34:31Z       1065      1773\n227427   227427  trajectory  2013-02-15T21:35:36Z        708      3481\n\n[227428 rows x 5 columns]",
      "text/html": "<div>\n<style scoped>\n    .dataframe tbody tr th:only-of-type {\n        vertical-align: middle;\n    }\n\n    .dataframe tbody tr th {\n        vertical-align: top;\n    }\n\n    .dataframe thead th {\n        text-align: right;\n    }\n</style>\n<table border=\"1\" class=\"dataframe\">\n  <thead>\n    <tr style=\"text-align: right;\">\n      <th></th>\n      <th>dyna_id</th>\n      <th>type</th>\n      <th>time</th>\n      <th>entity_id</th>\n      <th>location</th>\n    </tr>\n  </thead>\n  <tbody>\n    <tr>\n      <th>0</th>\n      <td>0</td>\n      <td>trajectory</td>\n      <td>2012-04-03T14:00:09Z</td>\n      <td>0</td>\n      <td>2388</td>\n    </tr>\n    <tr>\n      <th>1</th>\n      <td>1</td>\n      <td>trajectory</td>\n      <td>2012-04-03T14:00:25Z</td>\n      <td>1</td>\n      <td>3921</td>\n    </tr>\n    <tr>\n      <th>2</th>\n      <td>2</td>\n      <td>trajectory</td>\n      <td>2012-04-03T14:02:24Z</td>\n      <td>2</td>\n      <td>20328</td>\n    </tr>\n    <tr>\n      <th>3</th>\n      <td>3</td>\n      <td>trajectory</td>\n      <td>2012-04-03T14:02:41Z</td>\n      <td>3</td>\n      <td>15114</td>\n    </tr>\n    <tr>\n      <th>4</th>\n      <td>4</td>\n      <td>trajectory</td>\n      <td>2012-04-03T14:03:00Z</td>\n      <td>4</td>\n      <td>23550</td>\n    </tr>\n    <tr>\n      <th>...</th>\n      <td>...</td>\n      <td>...</td>\n      <td>...</td>\n      <td>...</td>\n      <td>...</td>\n    </tr>\n    <tr>\n      <th>227423</th>\n      <td>227423</td>\n      <td>trajectory</td>\n      <td>2013-02-15T21:29:11Z</td>\n      <td>136</td>\n      <td>0</td>\n    </tr>\n    <tr>\n      <th>227424</th>\n      <td>227424</td>\n      <td>trajectory</td>\n      <td>2013-02-15T21:31:35Z</td>\n      <td>535</td>\n      <td>15284</td>\n    </tr>\n    <tr>\n      <th>227425</th>\n      <td>227425</td>\n      <td>trajectory</td>\n      <td>2013-02-15T21:33:16Z</td>\n      <td>729</td>\n      <td>37855</td>\n    </tr>\n    <tr>\n      <th>227426</th>\n      <td>227426</td>\n      <td>trajectory</td>\n      <td>2013-02-15T21:34:31Z</td>\n      <td>1065</td>\n      <td>1773</td>\n    </tr>\n    <tr>\n      <th>227427</th>\n      <td>227427</td>\n      <td>trajectory</td>\n      <td>2013-02-15T21:35:36Z</td>\n      <td>708</td>\n      <td>3481</td>\n    </tr>\n  </tbody>\n</table>\n<p>227428 rows × 5 columns</p>\n</div>"
     },
     "execution_count": 13,
     "metadata": {},
     "output_type": "execute_result"
    }
   ],
   "source": [
    "dyna_data_filtered = filter_location_checkin(dyna_data,threshold=0)\n",
    "dyna_data_filtered"
   ],
   "metadata": {
    "collapsed": false,
    "ExecuteTime": {
     "end_time": "2023-09-28T06:43:44.263999400Z",
     "start_time": "2023-09-28T06:43:44.242142900Z"
    }
   },
   "id": "6be89fbbcab2481c"
  },
  {
   "cell_type": "code",
   "execution_count": 28,
   "outputs": [],
   "source": [
    "def frequency_of_occurrence(df, hours_gap=None):\n",
    "    df['time'] = pd.to_datetime(df['time'])\n",
    "    df = df.sort_values(by=['entity_id', 'time'])\n",
    "    \n",
    "    if hours_gap:\n",
    "        df['sequence_gap'] = df.groupby('entity_id')['time'].diff().gt(pd.Timedelta(hours=hours_gap))\n",
    "\n",
    "        df['sequence_id'] = df.groupby('entity_id')['sequence_gap'].cumsum().fillna(0)\n",
    "    else:\n",
    "        df['sequence_id'] = 0  # If no hours_gap, use a single sequence for each user\n",
    "        \n",
    "    pairwise_counts = defaultdict(int)\n",
    "    grouped = df.groupby(['entity_id', 'sequence_id'])['location'].apply(list).reset_index()\n",
    "    for _, row in grouped.iterrows():\n",
    "        venues_list = row['location']\n",
    "\n",
    "        for i, v1 in enumerate(venues_list):\n",
    "            for j, v2 in enumerate(venues_list):\n",
    "                if i < j:  # To ensure we only count when v1 appears before v2\n",
    "                    pairwise_counts[(v1, v2)] +=  1\n",
    "    venues = df['location'].unique()\n",
    "    n = len(venues)\n",
    "    matrix = np.zeros((n, n))\n",
    "    for (i, j), count in pairwise_counts.items():\n",
    " \n",
    "        fraction = count / len(grouped)\n",
    "        matrix[i, j] = fraction  # Asymmetric matrix     \n",
    "        \n",
    "    # print(matrix)\n",
    "    \n",
    "    return matrix"
   ],
   "metadata": {
    "collapsed": false,
    "ExecuteTime": {
     "end_time": "2023-09-28T07:11:40.224181800Z",
     "start_time": "2023-09-28T07:11:40.217955500Z"
    }
   },
   "id": "deaec4bc380257e2"
  },
  {
   "cell_type": "code",
   "execution_count": 29,
   "outputs": [
    {
     "data": {
      "text/plain": "array([[0., 0., 0., ..., 0., 0., 0.],\n       [0., 0., 0., ..., 0., 0., 0.],\n       [0., 0., 0., ..., 0., 0., 0.],\n       ...,\n       [0., 0., 0., ..., 0., 0., 0.],\n       [0., 0., 0., ..., 0., 0., 0.],\n       [0., 0., 0., ..., 0., 0., 0.]])"
     },
     "execution_count": 29,
     "metadata": {},
     "output_type": "execute_result"
    }
   ],
   "source": [
    "freq_matrix = frequency_of_occurrence(dyna_data_filtered)\n",
    "freq_matrix"
   ],
   "metadata": {
    "collapsed": false,
    "ExecuteTime": {
     "end_time": "2023-09-28T07:11:53.284314600Z",
     "start_time": "2023-09-28T07:11:43.094060400Z"
    }
   },
   "id": "628c06908bb376a7"
  },
  {
   "cell_type": "code",
   "execution_count": 42,
   "outputs": [
    {
     "data": {
      "text/plain": "(38333, 38333)"
     },
     "execution_count": 42,
     "metadata": {},
     "output_type": "execute_result"
    }
   ],
   "source": [
    "freq_matrix.shape"
   ],
   "metadata": {
    "collapsed": false,
    "ExecuteTime": {
     "end_time": "2023-09-28T07:21:45.718750200Z",
     "start_time": "2023-09-28T07:21:45.718750200Z"
    }
   },
   "id": "e30c8f0163ebba8e"
  },
  {
   "cell_type": "code",
   "execution_count": 40,
   "outputs": [
    {
     "name": "stderr",
     "output_type": "stream",
     "text": [
      "e:\\Anaconda\\envs\\deeplearning\\lib\\site-packages\\IPython\\core\\pylabtools.py:151: UserWarning: Glyph 30697 (\\N{CJK UNIFIED IDEOGRAPH-77E9}) missing from current font.\n",
      "  fig.canvas.print_figure(bytes_io, **kw)\n",
      "e:\\Anaconda\\envs\\deeplearning\\lib\\site-packages\\IPython\\core\\pylabtools.py:151: UserWarning: Glyph 38453 (\\N{CJK UNIFIED IDEOGRAPH-9635}) missing from current font.\n",
      "  fig.canvas.print_figure(bytes_io, **kw)\n",
      "e:\\Anaconda\\envs\\deeplearning\\lib\\site-packages\\IPython\\core\\pylabtools.py:151: UserWarning: Glyph 20540 (\\N{CJK UNIFIED IDEOGRAPH-503C}) missing from current font.\n",
      "  fig.canvas.print_figure(bytes_io, **kw)\n",
      "e:\\Anaconda\\envs\\deeplearning\\lib\\site-packages\\IPython\\core\\pylabtools.py:151: UserWarning: Glyph 30340 (\\N{CJK UNIFIED IDEOGRAPH-7684}) missing from current font.\n",
      "  fig.canvas.print_figure(bytes_io, **kw)\n",
      "e:\\Anaconda\\envs\\deeplearning\\lib\\site-packages\\IPython\\core\\pylabtools.py:151: UserWarning: Glyph 20998 (\\N{CJK UNIFIED IDEOGRAPH-5206}) missing from current font.\n",
      "  fig.canvas.print_figure(bytes_io, **kw)\n",
      "e:\\Anaconda\\envs\\deeplearning\\lib\\site-packages\\IPython\\core\\pylabtools.py:151: UserWarning: Glyph 24067 (\\N{CJK UNIFIED IDEOGRAPH-5E03}) missing from current font.\n",
      "  fig.canvas.print_figure(bytes_io, **kw)\n",
      "e:\\Anaconda\\envs\\deeplearning\\lib\\site-packages\\IPython\\core\\pylabtools.py:151: UserWarning: Glyph 39057 (\\N{CJK UNIFIED IDEOGRAPH-9891}) missing from current font.\n",
      "  fig.canvas.print_figure(bytes_io, **kw)\n",
      "e:\\Anaconda\\envs\\deeplearning\\lib\\site-packages\\IPython\\core\\pylabtools.py:151: UserWarning: Glyph 29575 (\\N{CJK UNIFIED IDEOGRAPH-7387}) missing from current font.\n",
      "  fig.canvas.print_figure(bytes_io, **kw)\n"
     ]
    },
    {
     "data": {
      "text/plain": "<Figure size 640x480 with 1 Axes>",
      "image/png": "[encoded data removed]"
     },
     "metadata": {},
     "output_type": "display_data"
    }
   ],
   "source": [
    "import matplotlib.pyplot as plt\n",
    "\n",
    "\n",
    "# 将矩阵展平为1D数组\n",
    "values = freq_matrix.flatten()\n",
    "\n",
    "# 绘制直方图，使用更多的bins来查看接近0的值的分布\n",
    "plt.hist(values, bins=100, color='blue', alpha=0.7)\n",
    "plt.title('矩阵值的分布')\n",
    "plt.xlabel('值')\n",
    "plt.ylabel('频率')\n",
    "plt.grid(True)\n",
    "plt.show()\n"
   ],
   "metadata": {
    "collapsed": false,
    "ExecuteTime": {
     "end_time": "2023-09-28T07:18:33.800825700Z",
     "start_time": "2023-09-28T07:18:14.045358100Z"
    }
   },
   "id": "d297d9034ba29d5e"
  },
  {
   "cell_type": "code",
   "execution_count": 39,
   "outputs": [
    {
     "data": {
      "text/plain": "0.0009233610341643582"
     },
     "execution_count": 39,
     "metadata": {},
     "output_type": "execute_result"
    }
   ],
   "source": [
    "freq_matrix[2388][27701]"
   ],
   "metadata": {
    "collapsed": false,
    "ExecuteTime": {
     "end_time": "2023-09-28T07:18:09.416535700Z",
     "start_time": "2023-09-28T07:18:09.405535200Z"
    }
   },
   "id": "99b99ac4100bf810"
  },
  {
   "cell_type": "code",
   "execution_count": 44,
   "outputs": [
    {
     "data": {
      "text/plain": "3.138633439000659e-05"
     },
     "execution_count": 44,
     "metadata": {},
     "output_type": "execute_result"
    }
   ],
   "source": [
    "np.load('clean_data/foursquare_nyc/freq_matrix.npy')[2388][27701]"
   ],
   "metadata": {
    "collapsed": false,
    "ExecuteTime": {
     "end_time": "2023-09-28T07:35:08.766572800Z",
     "start_time": "2023-09-28T07:35:00.956615600Z"
    }
   },
   "id": "73539dfa2eb9045"
  },
  {
   "cell_type": "code",
   "execution_count": 15,
   "outputs": [
    {
     "name": "stdout",
     "output_type": "stream",
     "text": [
      "   entity_id  location                      time\n",
      "0          0         2 2012-04-03 14:00:09+00:00\n",
      "2          0         0 2012-04-03 14:00:29+00:00\n",
      "5          0         2 2012-04-03 14:01:25+00:00\n",
      "1          1         2 2012-04-03 14:00:25+00:00\n",
      "3          1         1 2012-04-03 14:00:35+00:00\n",
      "4          1         3 2012-04-03 14:00:45+00:00\n",
      "6          2         4 2012-04-03 14:02:25+00:00\n",
      "7          2         3 2012-04-03 14:03:25+00:00\n"
     ]
    },
    {
     "data": {
      "text/plain": "array([[0.        , 0.        , 0.33333333, 0.        , 0.        ],\n       [0.        , 0.        , 0.        , 0.33333333, 0.        ],\n       [0.33333333, 0.33333333, 0.33333333, 0.33333333, 0.        ],\n       [0.        , 0.        , 0.        , 0.        , 0.        ],\n       [0.        , 0.        , 0.        , 0.33333333, 0.        ]])"
     },
     "execution_count": 15,
     "metadata": {},
     "output_type": "execute_result"
    }
   ],
   "source": [
    "\n",
    "data = {\n",
    "    'entity_id': [0, 1, 0, 1, 1, 0, 2, 2],\n",
    "    'location': [2, 2, 0, 1, 3, 2, 4, 3],\n",
    "    'time': ['2012-04-03T14:00:09Z', '2012-04-03T14:00:25Z', '2012-04-03T14:00:29Z',\n",
    "             '2012-04-03T14:00:35Z', '2012-04-03T14:00:45Z', '2012-04-03T14:01:25Z',\n",
    "             '2012-04-03T14:02:25Z', '2012-04-03T14:03:25Z']\n",
    "}\n",
    "\n",
    "\n",
    "df = pd.DataFrame(data)\n",
    "df.sort_values\n",
    "\n",
    "def frequency_of_occurrence(df, hours_gap=None):\n",
    "    df['time'] = pd.to_datetime(df['time'])\n",
    "    df = df.sort_values(by=['entity_id', 'time'])\n",
    "    if hours_gap:\n",
    "        df['sequence_gap'] = df.groupby('entity_id')['time'].diff().gt(pd.Timedelta(hours=hours_gap))\n",
    "\n",
    "        df['sequence_id'] = df.groupby('entity_id')['sequence_gap'].cumsum().fillna(0)\n",
    "    else:\n",
    "        df['sequence_id'] = 0  # If no hours_gap, use a single sequence for each user\n",
    "\n",
    "    pairwise_counts = defaultdict(int)\n",
    "    grouped = df.groupby(['entity_id', 'sequence_id'])['location'].apply(list).reset_index()\n",
    "    for _, row in grouped.iterrows():\n",
    "        venues_list = row['location']\n",
    "\n",
    "        for i, v1 in enumerate(venues_list):\n",
    "            for j, v2 in enumerate(venues_list):\n",
    "                if i < j:  # To ensure we only count when v1 appears before v2\n",
    "                    pairwise_counts[(v1, v2)] += 1\n",
    "    venues = df['location'].unique()\n",
    "    n = len(venues)\n",
    "    matrix = np.zeros((n, n))\n",
    "    for (i, j), count in pairwise_counts.items():\n",
    "        fraction = count / len(grouped)\n",
    "        matrix[i, j] = fraction  # Asymmetric matrix\n",
    "\n",
    "    return matrix\n",
    "\n",
    "\n",
    "ff = frequency_of_occurrence(df)\n",
    "ff"
   ],
   "metadata": {
    "collapsed": false,
    "ExecuteTime": {
     "end_time": "2023-09-29T12:07:25.120065700Z",
     "start_time": "2023-09-29T12:07:25.108926400Z"
    }
   },
   "id": "5220d6a20f33191"
  },
  {
   "cell_type": "code",
   "execution_count": 14,
   "outputs": [
    {
     "data": {
      "text/plain": "0.3333333333333333"
     },
     "execution_count": 14,
     "metadata": {},
     "output_type": "execute_result"
    }
   ],
   "source": [
    "# 1 前 3 后\n",
    "ff[1][3]"
   ],
   "metadata": {
    "collapsed": false,
    "ExecuteTime": {
     "end_time": "2023-09-29T12:05:46.348155900Z",
     "start_time": "2023-09-29T12:05:46.334289600Z"
    }
   },
   "id": "ace331a6bce4c08b"
  },
  {
   "cell_type": "markdown",
   "source": [],
   "metadata": {
    "collapsed": false
   },
   "id": "3c1e017410b5ac7b"
  },
  {
   "cell_type": "code",
   "execution_count": 53,
   "outputs": [],
   "source": [
    "coordinates = df['coordinates']"
   ],
   "metadata": {
    "collapsed": false,
    "ExecuteTime": {
     "end_time": "2023-09-28T08:04:48.331412200Z",
     "start_time": "2023-09-28T08:04:48.324233200Z"
    }
   },
   "id": "db556a1cb7d7faa8"
  },
  {
   "cell_type": "code",
   "execution_count": 57,
   "outputs": [],
   "source": [],
   "metadata": {
    "collapsed": false,
    "ExecuteTime": {
     "end_time": "2023-09-28T09:11:46.176181500Z",
     "start_time": "2023-09-28T09:11:46.166181500Z"
    }
   },
   "id": "4efc51444838586b"
  },
  {
   "cell_type": "code",
   "execution_count": 62,
   "outputs": [
    {
     "name": "stdout",
     "output_type": "stream",
     "text": [
      "180.0 180.0\n",
      "40.372666348518884 40.39055370616972\n",
      "0.5717283972656164 0.5899782381532065\n",
      "1.1475799191971416 1.1656485026049377\n",
      "-139.60944629383027 -139.6273336514811\n",
      "180.0 180.0\n",
      "0.0 0.0\n",
      "0.0 0.0\n",
      "-179.4100217618468 -179.42827160273438\n",
      "180.0 180.0\n",
      "180.0 180.0\n",
      "180.0 180.0\n",
      "-178.83435149739506 -178.85242008080286\n",
      "180.0 180.0\n",
      "0.0 0.0\n",
      "180.0 180.0\n",
      "(4, 4, 2)\n"
     ]
    }
   ],
   "source": [
    "from geographiclib.geodesic import Geodesic\n",
    "coordinate = [eval(coord) for coord in df['coordinates']]\n",
    "lats = [float(coord[1]) for coord in coordinate]\n",
    "lons = [float(coord[0]) for coord in coordinate]\n",
    "dist_angle_mat = np.zeros((len(lons), len(lons), 2))\n",
    "for i in range(len(coordinates)):\n",
    "        for j in range(len(coordinates)):\n",
    "            dist = Geodesic.WGS84.Inverse(lats[i], lons[i], lats[j], lons[j])\n",
    "            dist_angle_mat[i, j, 0] = dist[\"s12\"] / 1000.0  # distance, km\n",
    "            dist_angle_mat[i, j, 1] = dist[\"azi1\"]  \n",
    "            print(dist[\"azi1\"],dist[\"azi2\"])\n",
    "print(dist_angle_mat.shape)"
   ],
   "metadata": {
    "collapsed": false,
    "ExecuteTime": {
     "end_time": "2023-09-28T09:20:23.691914800Z",
     "start_time": "2023-09-28T09:20:23.676914900Z"
    }
   },
   "id": "d1b9fe9efc5636f6"
  },
  {
   "cell_type": "code",
   "execution_count": 60,
   "outputs": [
    {
     "data": {
      "text/plain": "array([[[   0.        ,  180.        ],\n        [   3.5725326 ,   40.37266635],\n        [ 224.87011863,    0.5717284 ],\n        [ 113.80345182,    1.14757992]],\n\n       [[   3.5725326 , -139.60944629],\n        [   0.        ,  180.        ],\n        [ 222.13720494,    0.        ],\n        [ 111.05890405,    0.        ]],\n\n       [[ 224.87011863, -179.41002176],\n        [ 222.13720494,  180.        ],\n        [   0.        ,  180.        ],\n        [ 111.07830089,  180.        ]],\n\n       [[ 113.80345182, -178.8343515 ],\n        [ 111.05890405,  180.        ],\n        [ 111.07830089,    0.        ],\n        [   0.        ,  180.        ]]])"
     },
     "execution_count": 60,
     "metadata": {},
     "output_type": "execute_result"
    }
   ],
   "source": [
    "dist_angle_mat"
   ],
   "metadata": {
    "collapsed": false,
    "ExecuteTime": {
     "end_time": "2023-09-28T09:13:36.034134600Z",
     "start_time": "2023-09-28T09:13:36.015517700Z"
    }
   },
   "id": "88a3e3cd249a51b6"
  }
 ],
 "metadata": {
  "kernelspec": {
   "display_name": "Python 3",
   "language": "python",
   "name": "python3"
  },
  "language_info": {
   "codemirror_mode": {
    "name": "ipython",
    "version": 2
   },
   "file_extension": ".py",
   "mimetype": "text/x-python",
   "name": "python",
   "nbconvert_exporter": "python",
   "pygments_lexer": "ipython2",
   "version": "2.7.6"
  }
 },
 "nbformat": 4,
 "nbformat_minor": 5
}
