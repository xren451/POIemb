{
 "cells": [
  {
   "cell_type": "code",
   "execution_count": 1,
   "metadata": {},
   "outputs": [],
   "source": [
    "import random\n",
    "import networkx as nx\n",
    "from torch_geometric.utils import from_networkx\n",
    "import numpy as np\n",
    "import torch.nn.functional as F\n",
    "from torch_geometric.nn import MessagePassing\n",
    "from torch_geometric.loader import NeighborSampler\n",
    "import torch\n",
    "from torch_geometric.loader import DataLoader\n",
    "from torch_geometric.data import Data"
   ]
  },
  {
   "cell_type": "markdown",
   "metadata": {},
   "source": [
    "## base\n"
   ]
  },
  {
   "cell_type": "code",
   "execution_count": 2,
   "metadata": {},
   "outputs": [],
   "source": [
    "def sample_neighbors_dfs(graph, node, num_samples, visited=None):\n",
    "    if visited is None:\n",
    "        visited = set()\n",
    "    visited.add(node)\n",
    "\n",
    "    neighbors = list(graph.neighbors(node))\n",
    "    random.shuffle(neighbors)\n",
    "\n",
    "    samples = []\n",
    "    for neighbor in neighbors:\n",
    "        if len(samples) >= num_samples:\n",
    "            break\n",
    "        if neighbor not in visited:\n",
    "            visited.add(neighbor)\n",
    "            samples.append(neighbor)\n",
    "            additional_samples = sample_neighbors_dfs(\n",
    "                graph, neighbor, num_samples - len(samples), visited)\n",
    "            samples.extend(additional_samples)\n",
    "    return samples[:num_samples]\n",
    "\n",
    "\n",
    "def sample_neighbors_bfs(graph, node, num_samples, visited=None):\n",
    "    if visited is None:\n",
    "        visited = set()\n",
    "    visited.add(node)\n",
    "\n",
    "    neighbors = list(graph.neighbors(node))\n",
    "    random.shuffle(neighbors)\n",
    "\n",
    "    samples = []\n",
    "    for neighbor in neighbors:\n",
    "        if len(samples) >= num_samples:\n",
    "            break\n",
    "        if neighbor not in visited:\n",
    "            samples.append(neighbor)\n",
    "            visited.add(neighbor)\n",
    "\n",
    "    if len(samples) < num_samples:\n",
    "        for neighbor in samples:\n",
    "            additional_samples = sample_neighbors_bfs(\n",
    "                graph, neighbor, num_samples - len(samples), visited)\n",
    "            samples.extend(additional_samples)\n",
    "            if len(samples) >= num_samples:\n",
    "                break\n",
    "    # print(samples)\n",
    "    return samples[:num_samples]"
   ]
  },
  {
   "cell_type": "code",
   "execution_count": 3,
   "metadata": {},
   "outputs": [
    {
     "name": "stdout",
     "output_type": "stream",
     "text": [
      "BFS Sampling: [2, 3, 0, 4]\n",
      "DFS Sampling: [2, 4, 5, 6]\n"
     ]
    },
    {
     "data": {
      "image/png": "[encoded data removed]",
      "text/plain": [
       "<Figure size 640x480 with 1 Axes>"
      ]
     },
     "metadata": {},
     "output_type": "display_data"
    }
   ],
   "source": [
    "graph = nx.Graph()\n",
    "graph.add_edges_from([(0, 1), (1, 2), (1, 3), (2, 3),\n",
    "                     (3, 4), (4, 2), (4, 5), (5, 6)])\n",
    "pos = nx.kamada_kawai_layout(graph)\n",
    "nx.draw_networkx(graph, pos=pos)\n",
    "data = from_networkx(graph)\n",
    "\n",
    "# initial node\n",
    "sampling_node = 1\n",
    "# sample num\n",
    "threshold = 4\n",
    "sample_bfs = sample_neighbors_bfs(graph, sampling_node, threshold)\n",
    "sample_dfs = sample_neighbors_dfs(graph, sampling_node, threshold)\n",
    "print(\"BFS Sampling:\", sample_bfs)\n",
    "print(\"DFS Sampling:\", sample_dfs)"
   ]
  },
  {
   "cell_type": "markdown",
   "metadata": {},
   "source": [
    "## Graphsage(with dfs)\n"
   ]
  },
  {
   "cell_type": "code",
   "execution_count": 4,
   "metadata": {},
   "outputs": [],
   "source": [
    "class GraphSAGEConv(MessagePassing):\n",
    "    def __init__(self, in_channels, out_channels, graph, threshold):\n",
    "        super(GraphSAGEConv, self).__init__(aggr='mean')\n",
    "        self.lin = torch.nn.Linear(in_channels, out_channels)\n",
    "        # self.num_samples = num_samples\n",
    "        self.graph = graph\n",
    "\n",
    "    def forward(self, x):\n",
    "        edge_index = []\n",
    "\n",
    "        for node in range(x.size(0)):\n",
    "            sampled_neighbors = sample_neighbors_dfs(\n",
    "                self.graph, node, threshold)\n",
    "            sampled_edges = [(node, neighbor)\n",
    "                             for neighbor in sampled_neighbors]\n",
    "            edge_index.extend(sampled_edges)\n",
    "\n",
    "        edge_index = torch.tensor(\n",
    "            edge_index, dtype=torch.long).t().contiguous()\n",
    "        return self.propagate(edge_index, size=(x.size(0), x.size(0)), x=x)\n",
    "\n",
    "    def message(self, x_j):\n",
    "        return x_j\n",
    "\n",
    "    def update(self, aggr_out):\n",
    "        return self.lin(aggr_out)"
   ]
  },
  {
   "cell_type": "code",
   "execution_count": 5,
   "metadata": {},
   "outputs": [
    {
     "name": "stdout",
     "output_type": "stream",
     "text": [
      "tensor([[-0.5063,  0.8836,  0.1516],\n",
      "        [-0.4403,  0.6639,  0.0127],\n",
      "        [-0.5719,  0.7786,  0.0818],\n",
      "        [-1.0449,  0.8000, -0.0555],\n",
      "        [-0.4266,  0.4324, -0.3027],\n",
      "        [-1.0531,  0.6417, -0.3245],\n",
      "        [-1.4893, -0.0906, -1.4134]], grad_fn=<AddmmBackward0>)\n"
     ]
    }
   ],
   "source": [
    "num_nodes = len(graph.nodes)\n",
    "in_channels = 3\n",
    "out_channels = 3\n",
    "node_features = torch.randn(num_nodes, 3)  # random 3 node feature dim\n",
    "model = GraphSAGEConv(in_channels, out_channels, graph, threshold)\n",
    "output = model(node_features)\n",
    "print(output)"
   ]
  },
  {
   "cell_type": "markdown",
   "metadata": {},
   "source": [
    "## 可能的动态采样\n"
   ]
  },
  {
   "cell_type": "code",
   "execution_count": 9,
   "metadata": {},
   "outputs": [
    {
     "name": "stdout",
     "output_type": "stream",
     "text": [
      "batch_size: tensor([4])\n",
      "n_id: tensor([2, 1, 3, 4])\n",
      "EdgeIndex(edge_index=tensor([[1, 2, 3],\n",
      "        [0, 0, 0]]), e_id=tensor([ 2,  8, 10]), size=(4, 1))\n"
     ]
    }
   ],
   "source": [
    "def dynamic_sampler(edge_index, node_idx, size=5, max_depth=2):\n",
    "\n",
    "    sampler = NeighborSampler(\n",
    "        edge_index, sizes=[size], node_idx=node_idx, batch_size=1)\n",
    "\n",
    "    for batch_size, n_id, adjs in sampler:\n",
    "        # if num_neighbor enough sample neighbors\n",
    "        if len(n_id)-1 >= size:\n",
    "            yield batch_size, n_id, adjs\n",
    "            continue\n",
    "\n",
    "        # if num_neighbor not enough sample neighbors's neighbor(next hop)\n",
    "        if max_depth > 0:\n",
    "            neighbor_adj_lists = []\n",
    "            for neighbor in n_id.tolist()[1:]:\n",
    "                new_neighbors = np.array(edge_index[1][np.where(\n",
    "                    edge_index[0] == neighbor)], dtype=np.int32)\n",
    "                if len(new_neighbors) > 0:\n",
    "                    neighbor_adj_lists.append(torch.tensor(\n",
    "                        [[neighbor] * len(new_neighbors), new_neighbors], dtype=torch.long))\n",
    "            if len(neighbor_adj_lists) > 0:\n",
    "                adj = torch.cat(neighbor_adj_lists, dim=1)\n",
    "                adj = adj.to_sparse()\n",
    "            else:\n",
    "                adj = None\n",
    "\n",
    "            for _, next_n_id, next_adjs in dynamic_sampler(\n",
    "                    edge_index, n_id, size=size, max_depth=max_depth-1):\n",
    "                # update batch_size\n",
    "                next_batch_size = len(next_n_id)\n",
    "                batch_size = torch.tensor([next_batch_size], dtype=torch.long)\n",
    "                yield batch_size, next_n_id, next_adjs\n",
    "\n",
    "                n_samples = next_batch_size\n",
    "                for adj in next_adjs:\n",
    "                    n_samples += adj.size(1)\n",
    "                    if n_samples >= size:\n",
    "                        break\n",
    "\n",
    "                if n_samples >= size:\n",
    "                    break\n",
    "\n",
    "        else:\n",
    "            yield batch_size, n_id, adjs\n",
    "\n",
    "\n",
    "sampler = dynamic_sampler(edge_index=data.edge_index,\n",
    "                          node_idx=torch.tensor([2]), size=4)\n",
    "for batch_size, n_id, adjs in sampler:\n",
    "    print(\"batch_size:\", batch_size)\n",
    "    print(\"n_id:\", n_id)\n",
    "    print(adjs)"
   ]
  },
  {
   "cell_type": "code",
   "execution_count": null,
   "metadata": {},
   "outputs": [],
   "source": []
  }
 ],
 "metadata": {
  "kernelspec": {
   "display_name": "pytorch",
   "language": "python",
   "name": "python3"
  },
  "language_info": {
   "codemirror_mode": {
    "name": "ipython",
    "version": 3
   },
   "file_extension": ".py",
   "mimetype": "text/x-python",
   "name": "python",
   "nbconvert_exporter": "python",
   "pygments_lexer": "ipython3",
   "version": "3.9.15"
  },
  "orig_nbformat": 4
 },
 "nbformat": 4,
 "nbformat_minor": 2
}
